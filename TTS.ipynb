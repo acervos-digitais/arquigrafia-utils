{
 "cells": [
  {
   "cell_type": "markdown",
   "id": "d64c07f4-74d2-4fef-843d-98a11ca633f8",
   "metadata": {},
   "source": [
    "### Test"
   ]
  },
  {
   "cell_type": "code",
   "execution_count": null,
   "id": "362cf051-3368-4e5a-ab01-ddbdc98d1e3b",
   "metadata": {},
   "outputs": [],
   "source": [
    "import json\n",
    "import librosa\n",
    "import numpy as np\n",
    "import pydub\n",
    "\n",
    "from os import path\n",
    "\n",
    "from transformers import VitsModel, AutoTokenizer, pipeline\n",
    "\n",
    "OBJECTS_DB_FILE_PATH = \"./metadata/json/objects.json\"\n",
    "OUTPUT_PATH = \"../../mp3s/captions\"\n",
    "\n",
    "TTS_MODEL_EN = \"facebook/mms-tts-eng\"\n",
    "TTS_MODEL_PT = \"facebook/mms-tts-por\""
   ]
  },
  {
   "cell_type": "markdown",
   "id": "27d420c4-5286-4e6d-ac84-38a201038a86",
   "metadata": {},
   "source": [
    "### Init Models"
   ]
  },
  {
   "cell_type": "code",
   "execution_count": null,
   "id": "ab14f056-776d-4de0-8471-ea62cd4e0d79",
   "metadata": {},
   "outputs": [],
   "source": [
    "import warnings\n",
    "warnings.filterwarnings(\"ignore\")\n",
    "\n",
    "ttss = {\n",
    "  \"en\": pipeline(model=TTS_MODEL_EN, device=\"cuda\"),\n",
    "  \"pt\": pipeline(model=TTS_MODEL_PT, device=\"cuda\")\n",
    "}"
   ]
  },
  {
   "cell_type": "markdown",
   "id": "30592d51-22f7-4d02-98e9-835cb250eff1",
   "metadata": {},
   "source": [
    "### Generate Audios"
   ]
  },
  {
   "cell_type": "code",
   "execution_count": null,
   "id": "aa8cc90e-989a-4e51-ac40-208bd833859c",
   "metadata": {},
   "outputs": [],
   "source": [
    "%%time\n",
    "\n",
    "import warnings\n",
    "warnings.filterwarnings(\"ignore\")\n",
    "\n",
    "CAPTION_MODEL = \"gpt\"\n",
    "TARGET_SR = 11025\n",
    "TARGET_BITRATE = \"32k\"\n",
    "\n",
    "img_data = {}\n",
    "with open(OBJECTS_DB_FILE_PATH, \"r\", encoding=\"utf8\") as f:\n",
    "  img_data = json.load(f)[\"images\"]\n",
    "\n",
    "for id,data in img_data.items():\n",
    "  for l,tts in ttss.items():\n",
    "    output_file_path = path.join(OUTPUT_PATH, l, f\"{id}.mp3\")\n",
    "    if path.isfile(output_file_path):\n",
    "      continue\n",
    "\n",
    "    output = tts(data[\"captions\"][l][CAPTION_MODEL])\n",
    "\n",
    "    samples = librosa.resample(output[\"audio\"], orig_sr=output[\"sampling_rate\"], target_sr=TARGET_SR)\n",
    "    mp3 = pydub.AudioSegment(np.int16(samples * 2 ** 15).tobytes(), frame_rate=TARGET_SR, sample_width=2, channels=1)\n",
    "    ofhandle = mp3.export(output_file_path, format=\"mp3\", bitrate=TARGET_BITRATE)\n",
    "    ofhandle.close()"
   ]
  }
 ],
 "metadata": {
  "kernelspec": {
   "display_name": "Python 3 (ipykernel)",
   "language": "python",
   "name": "python3"
  },
  "language_info": {
   "codemirror_mode": {
    "name": "ipython",
    "version": 3
   },
   "file_extension": ".py",
   "mimetype": "text/x-python",
   "name": "python",
   "nbconvert_exporter": "python",
   "pygments_lexer": "ipython3",
   "version": "3.10.9"
  }
 },
 "nbformat": 4,
 "nbformat_minor": 5
}
