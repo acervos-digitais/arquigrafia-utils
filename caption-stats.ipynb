{
 "cells": [
  {
   "cell_type": "code",
   "execution_count": null,
   "metadata": {},
   "outputs": [],
   "source": [
    "import json\n",
    "\n",
    "CAPTIONS_FILE = \"./metadata/json/captions_pt.json\"\n",
    "\n",
    "captions = []\n",
    "\n",
    "with open(CAPTIONS_FILE) as inf:\n",
    "  captions = list(json.load(inf).values())"
   ]
  },
  {
   "cell_type": "code",
   "execution_count": null,
   "metadata": {},
   "outputs": [],
   "source": [
    "caption_words_dict = {}\n",
    "\n",
    "for c in captions:\n",
    "  words = c.lower().replace(\"imagem de \", \"\").split(\",\")\n",
    "  for w in words:\n",
    "    _w = w.strip()\n",
    "    caption_words_dict[_w] = caption_words_dict.get(_w, 0) + 1\n",
    "\n",
    "caption_words_tuple = [[k,v] for k,v in caption_words_dict.items()]\n",
    "caption_words_sorted = sorted(caption_words_tuple, key=lambda x: x[1], reverse=True)\n"
   ]
  },
  {
   "cell_type": "code",
   "execution_count": null,
   "metadata": {},
   "outputs": [],
   "source": [
    "with open(\"cap.txt\", \"w\") as out:\n",
    "  for wc in caption_words_sorted:\n",
    "    out.write(f\"{wc[0]},{wc[1]}\\n\")"
   ]
  }
 ],
 "metadata": {
  "kernelspec": {
   "display_name": "9103",
   "language": "python",
   "name": "python3"
  },
  "language_info": {
   "codemirror_mode": {
    "name": "ipython",
    "version": 3
   },
   "file_extension": ".py",
   "mimetype": "text/x-python",
   "name": "python",
   "nbconvert_exporter": "python",
   "pygments_lexer": "ipython3",
   "version": "3.10.15"
  }
 },
 "nbformat": 4,
 "nbformat_minor": 2
}
