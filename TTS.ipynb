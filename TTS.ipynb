{
 "cells": [
  {
   "cell_type": "markdown",
   "id": "950274e2-a982-44cd-ad38-05d85627ed2e",
   "metadata": {},
   "source": [
    "## TTS"
   ]
  },
  {
   "cell_type": "code",
   "execution_count": null,
   "id": "362cf051-3368-4e5a-ab01-ddbdc98d1e3b",
   "metadata": {},
   "outputs": [],
   "source": [
    "import json\n",
    "\n",
    "from os import listdir, path\n",
    "\n",
    "from parameters.arquigrafia import AUDIO_PATH, AUDIO_PATH_ALL\n",
    "from parameters.captions import CAPTIONS_PATH\n",
    "from models.tts_models import TTSEn, TTSPt"
   ]
  },
  {
   "cell_type": "code",
   "execution_count": null,
   "id": "ab14f056-776d-4de0-8471-ea62cd4e0d79",
   "metadata": {},
   "outputs": [],
   "source": [
    "CAPTION_MODEL = \"gpt\"\n",
    "\n",
    "models = {\n",
    "  \"en\": TTSEn,\n",
    "  \"pt\": TTSPt\n",
    "}"
   ]
  },
  {
   "cell_type": "markdown",
   "id": "13dc6183-7e95-462a-b6fc-789ab5e54195",
   "metadata": {},
   "source": [
    "### Generate audios from CAPTION files"
   ]
  },
  {
   "cell_type": "code",
   "execution_count": null,
   "id": "b9c07715-ea6b-48a8-8b7d-74ff609c34cc",
   "metadata": {},
   "outputs": [],
   "source": [
    "%%time\n",
    "\n",
    "import warnings\n",
    "warnings.filterwarnings(\"ignore\")\n",
    "\n",
    "input_caption_files = sorted([f for f in listdir(CAPTIONS_PATH) if f.endswith(\"json\")])\n",
    "\n",
    "for fname in input_caption_files:\n",
    "  input_caption_path = path.join(CAPTIONS_PATH, fname)\n",
    "  id = fname.replace(\".json\", \"\")\n",
    "\n",
    "  with open(input_caption_path, \"r\", encoding=\"utf8\") as capf:\n",
    "    captions = json.load(capf)\n",
    "\n",
    "  for lang, tts_model in models.items():\n",
    "    output_file_path = path.join(AUDIO_PATH, lang, f\"{id}.mp3\")\n",
    "    possible_file_path = path.join(AUDIO_PATH_ALL, lang, f\"{id}.mp3\")\n",
    "\n",
    "    if path.isfile(output_file_path) or path.isfile(possible_file_path):\n",
    "      continue\n",
    "\n",
    "    mp3 = tts_model.tts(captions[lang][CAPTION_MODEL])\n",
    "    ofhandle = mp3.export(output_file_path, format=\"mp3\", bitrate=tts_model.TARGET_BITRATE)\n",
    "    ofhandle.close()"
   ]
  },
  {
   "cell_type": "markdown",
   "id": "30592d51-22f7-4d02-98e9-835cb250eff1",
   "metadata": {},
   "source": [
    "### Generate audios from OBJECTS file"
   ]
  },
  {
   "cell_type": "code",
   "execution_count": null,
   "id": "aa8cc90e-989a-4e51-ac40-208bd833859c",
   "metadata": {},
   "outputs": [],
   "source": [
    "%%time\n",
    "\n",
    "import warnings\n",
    "warnings.filterwarnings(\"ignore\")\n",
    "\n",
    "img_data = {}\n",
    "with open(DB_FILE_PATH, \"r\", encoding=\"utf8\") as f:\n",
    "  img_data = json.load(f)[\"images\"]\n",
    "\n",
    "for id,data in img_data.items():\n",
    "  for lang,tts_model in models.items():\n",
    "    output_file_path = path.join(AUDIO_PATH, lang, f\"{id}.mp3\")\n",
    "    possible_file_path = path.join(AUDIO_PATH_ALL, lang, f\"{id}.mp3\")\n",
    "\n",
    "    if path.isfile(output_file_path) or path.isfile(possible_file_path):\n",
    "      continue\n",
    "\n",
    "    mp3 = tts_model.tts(data[\"captions\"][lang][CAPTION_MODEL])\n",
    "    ofhandle = mp3.export(output_file_path, format=\"mp3\", bitrate=tts_model.TARGET_BITRATE)\n",
    "    ofhandle.close()"
   ]
  }
 ],
 "metadata": {
  "kernelspec": {
   "display_name": "Python 3 (ipykernel)",
   "language": "python",
   "name": "python3"
  },
  "language_info": {
   "codemirror_mode": {
    "name": "ipython",
    "version": 3
   },
   "file_extension": ".py",
   "mimetype": "text/x-python",
   "name": "python",
   "nbconvert_exporter": "python",
   "pygments_lexer": "ipython3",
   "version": "3.10.13"
  }
 },
 "nbformat": 4,
 "nbformat_minor": 5
}
