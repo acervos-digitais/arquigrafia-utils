{
 "cells": [
  {
   "cell_type": "markdown",
   "metadata": {},
   "source": [
    "## Image Embeddings"
   ]
  },
  {
   "cell_type": "code",
   "execution_count": null,
   "metadata": {},
   "outputs": [],
   "source": [
    "import json\n",
    "\n",
    "from os import listdir, makedirs, path\n",
    "\n",
    "from PIL import Image as PImage, ImageOps as PImageOps\n",
    "\n",
    "from parameters.arquigrafia import IMAGES_PATH\n",
    "from parameters.embeddings import EMBEDDINGS_PATH\n",
    "\n",
    "from models.embedding_models import Clip, EfficientNet, ResNet, Vit\n",
    "\n",
    "makedirs(EMBEDDINGS_PATH, exist_ok=True)"
   ]
  },
  {
   "cell_type": "markdown",
   "metadata": {},
   "source": [
    "### Run embeddings"
   ]
  },
  {
   "cell_type": "code",
   "execution_count": null,
   "metadata": {},
   "outputs": [],
   "source": [
    "input_files = sorted([f for f in listdir(IMAGES_PATH) if f.endswith(\"jpg\")])\n",
    "\n",
    "for idx, io_file in list(enumerate(input_files))[:8192]:\n",
    "  input_file_path = path.join(IMAGES_PATH, io_file)\n",
    "  output_file_path = path.join(EMBEDDINGS_PATH, io_file.replace(\".jpg\", \".json\"))\n",
    "\n",
    "  if path.isfile(output_file_path):\n",
    "    continue\n",
    "\n",
    "  if idx % 100 == 0:\n",
    "    print(idx, IMAGES_PATH, io_file)\n",
    "\n",
    "  image = PImageOps.exif_transpose(PImage.open(input_file_path).convert(\"RGB\"))\n",
    "\n",
    "  raw_embs = {}\n",
    "\n",
    "  raw_embs[\"clip\"] = Clip.get_embedding(image).tolist()\n",
    "  raw_embs[\"efficient\"] = EfficientNet.get_embedding(image).tolist()\n",
    "  raw_embs[\"resnet\"] = ResNet.get_embedding(image).tolist()\n",
    "  raw_embs[\"vit\"] = Vit.get_embedding(image).tolist()\n",
    "\n",
    "  image_embs = {\"raw\": raw_embs}\n",
    "\n",
    "  with open(output_file_path, \"w\", encoding=\"utf-8\") as of:\n",
    "    json.dump(image_embs, of, sort_keys=True, separators=(',',':'), ensure_ascii=False)"
   ]
  },
  {
   "cell_type": "markdown",
   "metadata": {},
   "source": [
    "### Reduce Dims"
   ]
  },
  {
   "cell_type": "code",
   "execution_count": null,
   "metadata": {},
   "outputs": [],
   "source": [
    "input_files = sorted([f for f in listdir(IMAGES_PATH) if f.endswith(\"jpg\")])\n",
    "\n",
    "raw_embs = {}\n",
    "\n",
    "for idx, io_file in enumerate(input_files):\n",
    "  output_file_path = path.join(EMBEDDINGS_PATH, io_file.replace(\".jpg\", \".json\"))\n",
    "\n",
    "  if not path.isfile(output_file_path):\n",
    "    continue\n",
    "\n",
    "  if idx % 100 == 0:\n",
    "    print(idx, IMAGES_PATH, io_file)\n",
    "\n",
    "  with open(output_file_path, \"r\", encoding=\"utf8\") as f:\n",
    "    image_embs = json.load(f)\n",
    "\n",
    "  for k,e in image_embs[\"raw\"].items():\n",
    "    if k not in raw_embs:\n",
    "      raw_embs[k] = []\n",
    "    raw_embs[k].append(e)"
   ]
  },
  {
   "cell_type": "code",
   "execution_count": null,
   "metadata": {},
   "outputs": [],
   "source": [
    "import matplotlib.pyplot as plt\n",
    "\n",
    "from sklearn.cluster import KMeans\n",
    "from sklearn.decomposition import PCA\n",
    "from sklearn.preprocessing import StandardScaler"
   ]
  },
  {
   "cell_type": "code",
   "execution_count": null,
   "metadata": {},
   "outputs": [],
   "source": [
    "clipStandard = StandardScaler()\n",
    "clipPCA = PCA(n_components=4)\n",
    "clipCluster = KMeans(n_clusters=6)\n",
    "\n",
    "clip_std = clipStandard.fit_transform(raw_embs[\"clip\"])\n",
    "clip_pca = clipPCA.fit_transform(clip_std)\n",
    "clip_clusters = clipCluster.fit_predict(clip_std)\n",
    "\n",
    "# TODO: PCA\n",
    "# TODO: write output\n",
    "\n",
    "  # with open(output_file_path, \"w\", encoding=\"utf-8\") as of:\n",
    "  #   json.dump(image_embs, of, sort_keys=True, separators=(',',':'), ensure_ascii=False)"
   ]
  },
  {
   "cell_type": "code",
   "execution_count": null,
   "metadata": {},
   "outputs": [],
   "source": [
    "# 2D\n",
    "for i in range(3):\n",
    "  for j in range(i+1,3):\n",
    "    plt.scatter(clip_pca[:,i], clip_pca[:,j], c=clip_clusters)\n",
    "    plt.show()\n",
    "\n",
    "# 3D\n",
    "fig = plt.figure(figsize=(8, 8))\n",
    "ax = fig.add_subplot(projection='3d')\n",
    "\n",
    "ax.scatter(clip_pca[:,0], clip_pca[:,1], clip_pca[:,2], c=clip_clusters, marker='o', linestyle='', alpha=0.5)\n",
    "\n",
    "ax.set_title(\"Clip clustering\")\n",
    "plt.show()"
   ]
  },
  {
   "cell_type": "markdown",
   "metadata": {},
   "source": [
    "## Test Embeddings"
   ]
  },
  {
   "cell_type": "code",
   "execution_count": null,
   "metadata": {},
   "outputs": [],
   "source": [
    "imgs = [\n",
    "  PImage.open(IMAGES_PATH+\"/100.jpg\"),\n",
    "  PImage.open(IMAGES_PATH+\"/101.jpg\"),\n",
    "  PImage.open(IMAGES_PATH+\"/1000.jpg\"),\n",
    "  PImage.open(IMAGES_PATH+\"/1001.jpg\"),\n",
    "  PImage.open(IMAGES_PATH+\"/1010.jpg\"),\n",
    "  PImage.open(IMAGES_PATH+\"/1011.jpg\"),\n",
    "]\n",
    "\n",
    "img = imgs[0]\n",
    "\n",
    "for i in imgs:\n",
    "  display(i.resize((128,128)))"
   ]
  },
  {
   "cell_type": "code",
   "execution_count": null,
   "metadata": {},
   "outputs": [],
   "source": [
    "emb = ResNet.get_embedding(imgs)\n",
    "print(emb.shape)\n",
    "\n",
    "emb_diff = (emb - emb[1]).pow(2).sum(dim=1).pow(0.5)\n",
    "emb_diff.argsort()"
   ]
  },
  {
   "cell_type": "code",
   "execution_count": null,
   "metadata": {},
   "outputs": [],
   "source": [
    "emb = ResNet.get_embedding(img)\n",
    "print(emb.shape)"
   ]
  },
  {
   "cell_type": "code",
   "execution_count": null,
   "metadata": {},
   "outputs": [],
   "source": [
    "emb = EfficientNet.get_embedding(imgs)\n",
    "print(emb.shape)\n",
    "\n",
    "emb_diff = (emb - emb[1]).pow(2).sum(dim=1).pow(0.5)\n",
    "emb_diff.argsort()"
   ]
  },
  {
   "cell_type": "code",
   "execution_count": null,
   "metadata": {},
   "outputs": [],
   "source": [
    "emb = EfficientNet.get_embedding(img)\n",
    "print(emb.shape)"
   ]
  },
  {
   "cell_type": "code",
   "execution_count": null,
   "metadata": {},
   "outputs": [],
   "source": [
    "emb = Vit.get_embedding(imgs)\n",
    "print(emb.shape)\n",
    "\n",
    "emb_diff = (emb - emb[1]).pow(2).sum(dim=1).pow(0.5)\n",
    "emb_diff.argsort()"
   ]
  },
  {
   "cell_type": "code",
   "execution_count": null,
   "metadata": {},
   "outputs": [],
   "source": [
    "emb = Vit.get_embedding(img)\n",
    "print(emb.shape)"
   ]
  },
  {
   "cell_type": "code",
   "execution_count": null,
   "metadata": {},
   "outputs": [],
   "source": [
    "emb = Clip.get_embedding(imgs)\n",
    "print(emb.shape)\n",
    "\n",
    "emb_diff = (emb - emb[1]).pow(2).sum(dim=1).pow(0.5)\n",
    "emb_diff.argsort()"
   ]
  },
  {
   "cell_type": "code",
   "execution_count": null,
   "metadata": {},
   "outputs": [],
   "source": [
    "emb = Clip.get_embedding(img)\n",
    "print(emb.shape)"
   ]
  }
 ],
 "metadata": {
  "kernelspec": {
   "display_name": "ml",
   "language": "python",
   "name": "python3"
  },
  "language_info": {
   "codemirror_mode": {
    "name": "ipython",
    "version": 3
   },
   "file_extension": ".py",
   "mimetype": "text/x-python",
   "name": "python",
   "nbconvert_exporter": "python",
   "pygments_lexer": "ipython3",
   "version": "3.10.15"
  }
 },
 "nbformat": 4,
 "nbformat_minor": 2
}
