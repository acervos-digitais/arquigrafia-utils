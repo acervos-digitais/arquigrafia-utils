{
 "cells": [
  {
   "cell_type": "markdown",
   "id": "d64c07f4-74d2-4fef-843d-98a11ca633f8",
   "metadata": {},
   "source": [
    "### Test"
   ]
  },
  {
   "cell_type": "code",
   "execution_count": null,
   "id": "362cf051-3368-4e5a-ab01-ddbdc98d1e3b",
   "metadata": {},
   "outputs": [],
   "source": [
    "import json\n",
    "import librosa\n",
    "import pydub\n",
    "import torch\n",
    "import wave\n",
    "\n",
    "import numpy as np\n",
    "\n",
    "from IPython.display import Audio\n",
    "from os import path\n",
    "from PIL import Image as PImage, ImageDraw as PImageDraw\n",
    "\n",
    "from transformers import VitsModel, AutoTokenizer, pipeline\n",
    "\n",
    "OBJECTS_DB_FILE_PATH = \"./metadata/objects.json\"\n",
    "SR = 11025\n",
    "\n",
    "MODEL_PT = \"facebook/mms-tts-por\"\n",
    "\n",
    "model_pt = VitsModel.from_pretrained(MODEL_PT).to(\"cuda\")\n",
    "tokenizer_pt = AutoTokenizer.from_pretrained(MODEL_PT)\n",
    "\n",
    "pipe_pt = pipeline(model=MODEL_PT, device=\"cuda\")"
   ]
  },
  {
   "cell_type": "code",
   "execution_count": null,
   "id": "c2f228a6-71d1-4935-8069-add1117a2cd3",
   "metadata": {},
   "outputs": [],
   "source": [
    "out = pipe_pt(\"um dois tres testando\")\n",
    "display(Audio(out[\"audio\"], rate=out[\"sampling_rate\"]))"
   ]
  },
  {
   "cell_type": "code",
   "execution_count": null,
   "id": "9bf173c3-d481-4a66-816b-0828684552e8",
   "metadata": {},
   "outputs": [],
   "source": [
    "img_data = {}\n",
    "with open(OBJECTS_DB_FILE_PATH, \"r\", encoding=\"utf8\") as f:\n",
    "  img_data = json.load(f)[\"images\"]\n",
    "\n",
    "for k,v in list(img_data.items())[:10]:\n",
    "  inputs = tokenizer_pt(v[\"caption\"][\"pt\"], return_tensors=\"pt\").to(\"cuda\")\n",
    "\n",
    "  with torch.no_grad():\n",
    "    output_pt = model_pt(**inputs).waveform\n",
    "\n",
    "  output_pt = output_pt.cpu().data.numpy().squeeze()\n",
    "  output_pt = librosa.resample(output_pt, orig_sr=model_pt.config.sampling_rate, target_sr=SR)\n",
    "  #display(Audio(output_pt, rate=SR))\n",
    "\n",
    "  mp3 = pydub.AudioSegment(np.int16(output_pt * 2 ** 15).tobytes(), frame_rate=SR, sample_width=2, channels=1)\n",
    "  mp3.export(f\"{k}.mp3\", format=\"mp3\", bitrate=\"32k\")"
   ]
  }
 ],
 "metadata": {
  "kernelspec": {
   "display_name": "Python 3 (ipykernel)",
   "language": "python",
   "name": "python3"
  },
  "language_info": {
   "codemirror_mode": {
    "name": "ipython",
    "version": 3
   },
   "file_extension": ".py",
   "mimetype": "text/x-python",
   "name": "python",
   "nbconvert_exporter": "python",
   "pygments_lexer": "ipython3",
   "version": "3.10.9"
  }
 },
 "nbformat": 4,
 "nbformat_minor": 5
}
