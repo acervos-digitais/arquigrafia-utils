{
 "cells": [
  {
   "cell_type": "markdown",
   "metadata": {},
   "source": [
    "## Image Embeddings"
   ]
  },
  {
   "cell_type": "code",
   "execution_count": null,
   "metadata": {},
   "outputs": [],
   "source": [
    "import json\n",
    "import matplotlib.pyplot as plt\n",
    "import numpy as np\n",
    "\n",
    "from os import listdir, makedirs, path\n",
    "from random import shuffle\n",
    "\n",
    "from sklearn.cluster import KMeans\n",
    "from sklearn.metrics import silhouette_score\n",
    "from sklearn.mixture import GaussianMixture\n",
    "from sklearn.decomposition import PCA\n",
    "from sklearn.preprocessing import StandardScaler\n",
    "\n",
    "from PIL import Image as PImage, ImageOps as PImageOps\n",
    "\n",
    "from parameters.arquigrafia import IMAGES_PATH\n",
    "from parameters.embeddings import EMBEDDINGS_PATH\n",
    "\n",
    "from models.embedding_models import Clip, EfficientNet, ResNet, Vit\n",
    "\n",
    "makedirs(EMBEDDINGS_PATH, exist_ok=True)"
   ]
  },
  {
   "cell_type": "markdown",
   "metadata": {},
   "source": [
    "### Run embeddings"
   ]
  },
  {
   "cell_type": "code",
   "execution_count": null,
   "metadata": {},
   "outputs": [],
   "source": [
    "input_files = sorted([f for f in listdir(IMAGES_PATH) if f.endswith(\"jpg\")])\n",
    "\n",
    "for idx, io_file in list(enumerate(input_files))[:]:\n",
    "  input_file_path = path.join(IMAGES_PATH, io_file)\n",
    "  output_file_path = path.join(EMBEDDINGS_PATH, io_file.replace(\".jpg\", \".json\"))\n",
    "\n",
    "  if path.isfile(output_file_path):\n",
    "    continue\n",
    "\n",
    "  if idx % 100 == 0:\n",
    "    print(idx, IMAGES_PATH, io_file)\n",
    "\n",
    "  image = PImageOps.exif_transpose(PImage.open(input_file_path).convert(\"RGB\"))\n",
    "\n",
    "  raw_embs = {}\n",
    "\n",
    "  raw_embs[\"clip\"] = Clip.get_embedding(image).tolist()\n",
    "  raw_embs[\"efficient\"] = EfficientNet.get_embedding(image).tolist()\n",
    "  raw_embs[\"resnet\"] = ResNet.get_embedding(image).tolist()\n",
    "  raw_embs[\"vit\"] = Vit.get_embedding(image).tolist()\n",
    "\n",
    "  image_embs = {\"raw\": raw_embs}\n",
    "\n",
    "  with open(output_file_path, \"w\", encoding=\"utf-8\") as of:\n",
    "    json.dump(image_embs, of, sort_keys=True, separators=(',',':'), ensure_ascii=False)"
   ]
  },
  {
   "cell_type": "markdown",
   "metadata": {},
   "source": [
    "### Reduce Dims"
   ]
  },
  {
   "cell_type": "code",
   "execution_count": null,
   "metadata": {},
   "outputs": [],
   "source": [
    "input_files = sorted([f for f in listdir(IMAGES_PATH) if f.endswith(\"jpg\")])\n",
    "\n",
    "raw_embs = {}\n",
    "\n",
    "for idx, io_file in enumerate(input_files):\n",
    "  output_file_path = path.join(EMBEDDINGS_PATH, io_file.replace(\".jpg\", \".json\"))\n",
    "\n",
    "  if not path.isfile(output_file_path):\n",
    "    continue\n",
    "\n",
    "  if idx % 100 == 0:\n",
    "    print(idx, IMAGES_PATH, io_file)\n",
    "\n",
    "  with open(output_file_path, \"r\", encoding=\"utf8\") as f:\n",
    "    image_embs = json.load(f)\n",
    "\n",
    "  for k,e in image_embs[\"raw\"].items():\n",
    "    if k not in raw_embs:\n",
    "      raw_embs[k] = []\n",
    "    raw_embs[k].append(e)"
   ]
  },
  {
   "cell_type": "code",
   "execution_count": null,
   "metadata": {},
   "outputs": [],
   "source": [
    "def cluster_pca(emb_raw, n_clusters=6, n_components=4):\n",
    "  mStandard = StandardScaler()\n",
    "  mPCA = PCA(n_components=n_components)\n",
    "  # mCluster = KMeans(n_clusters=n_clusters)\n",
    "  mCluster = GaussianMixture(n_components=n_clusters)\n",
    "\n",
    "  emb_std = mStandard.fit_transform(emb_raw)\n",
    "  emb_pca = mPCA.fit_transform(emb_std)\n",
    "  emb_clusters = mCluster.fit_predict(emb_std)\n",
    "\n",
    "  return emb_std, emb_pca, emb_clusters, 0 #mCluster.inertia_"
   ]
  },
  {
   "cell_type": "code",
   "execution_count": null,
   "metadata": {},
   "outputs": [],
   "source": [
    "def plot_cluster_pca(clusters, pcas, title=\"\"):\n",
    "  for i in range(3):\n",
    "    for j in range(i+1,3):\n",
    "      plt.scatter(pcas[:,i], pcas[:,j], c=clusters, marker='o', linestyle='', alpha=0.5)\n",
    "      plt.title(title)\n",
    "      plt.show()\n",
    "\n",
    "  # 3D\n",
    "  fig = plt.figure(figsize=(8, 8))\n",
    "  ax = fig.add_subplot(projection='3d')\n",
    "  ax.scatter(pcas[:,0], pcas[:,1], pcas[:,2], c=clusters, marker='o', linestyle='', alpha=0.25)\n",
    "  ax.set_title(title)\n",
    "  plt.show()"
   ]
  },
  {
   "cell_type": "code",
   "execution_count": null,
   "metadata": {},
   "outputs": [],
   "source": [
    "clip_std, clip_pca, clip_clusters, clip_wss = cluster_pca(raw_embs[\"clip\"])\n",
    "plot_cluster_pca(clip_clusters, clip_pca, title=\"Clip\")"
   ]
  },
  {
   "cell_type": "code",
   "execution_count": null,
   "metadata": {},
   "outputs": [],
   "source": [
    "efficient_std, efficient_pca, efficient_clusters, efficient_wss = cluster_pca(raw_embs[\"efficient\"])\n",
    "plot_cluster_pca(efficient_clusters, efficient_pca, title=\"Efficient Net\")"
   ]
  },
  {
   "cell_type": "code",
   "execution_count": null,
   "metadata": {},
   "outputs": [],
   "source": [
    "resnet_std, resnet_pca, resnet_clusters, resnet_wss = cluster_pca(raw_embs[\"resnet\"])\n",
    "plot_cluster_pca(resnet_clusters, resnet_pca, title=\"ResNet\")"
   ]
  },
  {
   "cell_type": "code",
   "execution_count": null,
   "metadata": {},
   "outputs": [],
   "source": [
    "vit_std, vit_pca, vit_clusters, vit_wss = cluster_pca(raw_embs[\"vit\"])\n",
    "plot_cluster_pca(vit_clusters, vit_pca, title=\"Vit\")"
   ]
  },
  {
   "cell_type": "code",
   "execution_count": 15,
   "metadata": {},
   "outputs": [],
   "source": [
    "emb_name = \"vit\"\n",
    "wss = []\n",
    "sil = []\n",
    "for nc in range(2,8):\n",
    "  _std, _, _clusters, _wss = cluster_pca(raw_embs[emb_name], n_clusters=nc)\n",
    "  _sil = silhouette_score(_std, _clusters)\n",
    "  wss.append(_wss)\n",
    "  sil.append(_sil)"
   ]
  },
  {
   "cell_type": "code",
   "execution_count": null,
   "metadata": {},
   "outputs": [],
   "source": [
    "plt.plot(range(2,8), wss)\n",
    "plt.show()\n",
    "\n",
    "plt.plot(range(2,8), sil)\n",
    "plt.show()"
   ]
  },
  {
   "cell_type": "code",
   "execution_count": null,
   "metadata": {},
   "outputs": [],
   "source": [
    "emb_name = \"resnet\"\n",
    "wss = []\n",
    "sil = []\n",
    "for nc in range(2,8):\n",
    "  _std, _, _clusters, _wss = cluster_pca(raw_embs[emb_name], n_clusters=nc)\n",
    "  _sil = silhouette_score(_std, _clusters)\n",
    "  wss.append(_wss)\n",
    "  sil.append(_sil)"
   ]
  },
  {
   "cell_type": "code",
   "execution_count": null,
   "metadata": {},
   "outputs": [],
   "source": [
    "plt.plot(range(2,8), wss)\n",
    "plt.show()\n",
    "\n",
    "plt.plot(range(2,8), sil)\n",
    "plt.show()"
   ]
  },
  {
   "cell_type": "code",
   "execution_count": null,
   "metadata": {},
   "outputs": [],
   "source": [
    "input_files = sorted([f for f in listdir(IMAGES_PATH) if f.endswith(\"jpg\")])"
   ]
  },
  {
   "cell_type": "code",
   "execution_count": null,
   "metadata": {},
   "outputs": [],
   "source": [
    "m_clusters = resnet_clusters\n",
    "\n",
    "for c in np.unique(m_clusters):\n",
    "  this_cluster = np.where(m_clusters == c)[0]\n",
    "  shuffle(this_cluster)\n",
    "  fig, axes = plt.subplots(nrows=8, ncols=8)\n",
    "  fig.set_size_inches(10, 10)\n",
    "  fig.set_dpi(72)\n",
    "\n",
    "  fig.suptitle(f\"Vit Cluster {c}\")\n",
    "  for ciidx, ax in enumerate(axes.flat):\n",
    "    iidx = this_cluster[ciidx]\n",
    "    img = PImage.open(path.join(IMAGES_PATH, input_files[iidx])).convert(\"RGB\")\n",
    "    img = PImageOps.exif_transpose(img).resize((128,128))\n",
    "    ax.imshow(img)\n",
    "    ax.axis(\"off\")\n",
    "\n",
    "  plt.tight_layout()\n",
    "  plt.show()"
   ]
  },
  {
   "cell_type": "code",
   "execution_count": null,
   "metadata": {},
   "outputs": [],
   "source": [
    "# TODO: PCA\n",
    "# TODO: write output\n",
    "\n",
    "  # with open(output_file_path, \"w\", encoding=\"utf-8\") as of:\n",
    "  #   json.dump(image_embs, of, sort_keys=True, separators=(',',':'), ensure_ascii=False)"
   ]
  },
  {
   "cell_type": "markdown",
   "metadata": {},
   "source": [
    "## Test Embeddings"
   ]
  },
  {
   "cell_type": "code",
   "execution_count": null,
   "metadata": {},
   "outputs": [],
   "source": [
    "imgs = [\n",
    "  PImage.open(IMAGES_PATH+\"/100.jpg\"),\n",
    "  PImage.open(IMAGES_PATH+\"/101.jpg\"),\n",
    "  PImage.open(IMAGES_PATH+\"/1000.jpg\"),\n",
    "  PImage.open(IMAGES_PATH+\"/1001.jpg\"),\n",
    "  PImage.open(IMAGES_PATH+\"/1010.jpg\"),\n",
    "  PImage.open(IMAGES_PATH+\"/1011.jpg\"),\n",
    "]\n",
    "\n",
    "img = imgs[0]\n",
    "\n",
    "for i in imgs:\n",
    "  display(i.resize((128,128)))"
   ]
  },
  {
   "cell_type": "code",
   "execution_count": null,
   "metadata": {},
   "outputs": [],
   "source": [
    "emb = ResNet.get_embedding(imgs)\n",
    "print(emb.shape)\n",
    "\n",
    "emb_diff = (emb - emb[1]).pow(2).sum(dim=1).pow(0.5)\n",
    "emb_diff.argsort()"
   ]
  },
  {
   "cell_type": "code",
   "execution_count": null,
   "metadata": {},
   "outputs": [],
   "source": [
    "emb = ResNet.get_embedding(img)\n",
    "print(emb.shape)"
   ]
  },
  {
   "cell_type": "code",
   "execution_count": null,
   "metadata": {},
   "outputs": [],
   "source": [
    "emb = EfficientNet.get_embedding(imgs)\n",
    "print(emb.shape)\n",
    "\n",
    "emb_diff = (emb - emb[1]).pow(2).sum(dim=1).pow(0.5)\n",
    "emb_diff.argsort()"
   ]
  },
  {
   "cell_type": "code",
   "execution_count": null,
   "metadata": {},
   "outputs": [],
   "source": [
    "emb = EfficientNet.get_embedding(img)\n",
    "print(emb.shape)"
   ]
  },
  {
   "cell_type": "code",
   "execution_count": null,
   "metadata": {},
   "outputs": [],
   "source": [
    "emb = Vit.get_embedding(imgs)\n",
    "print(emb.shape)\n",
    "\n",
    "emb_diff = (emb - emb[1]).pow(2).sum(dim=1).pow(0.5)\n",
    "emb_diff.argsort()"
   ]
  },
  {
   "cell_type": "code",
   "execution_count": null,
   "metadata": {},
   "outputs": [],
   "source": [
    "emb = Vit.get_embedding(img)\n",
    "print(emb.shape)"
   ]
  },
  {
   "cell_type": "code",
   "execution_count": null,
   "metadata": {},
   "outputs": [],
   "source": [
    "emb = Clip.get_embedding(imgs)\n",
    "print(emb.shape)\n",
    "\n",
    "emb_diff = (emb - emb[1]).pow(2).sum(dim=1).pow(0.5)\n",
    "emb_diff.argsort()"
   ]
  },
  {
   "cell_type": "code",
   "execution_count": null,
   "metadata": {},
   "outputs": [],
   "source": [
    "emb = Clip.get_embedding(img)\n",
    "print(emb.shape)"
   ]
  }
 ],
 "metadata": {
  "kernelspec": {
   "display_name": "ml",
   "language": "python",
   "name": "python3"
  },
  "language_info": {
   "codemirror_mode": {
    "name": "ipython",
    "version": 3
   },
   "file_extension": ".py",
   "mimetype": "text/x-python",
   "name": "python",
   "nbconvert_exporter": "python",
   "pygments_lexer": "ipython3",
   "version": "3.10.15"
  }
 },
 "nbformat": 4,
 "nbformat_minor": 2
}
