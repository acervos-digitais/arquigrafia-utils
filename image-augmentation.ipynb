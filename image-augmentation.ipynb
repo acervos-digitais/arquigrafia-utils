{
 "cells": [
  {
   "cell_type": "markdown",
   "metadata": {},
   "source": [
    "## Test Image Augmentation"
   ]
  },
  {
   "cell_type": "code",
   "execution_count": null,
   "metadata": {},
   "outputs": [],
   "source": [
    "from datasets import load_dataset\n",
    "from functools import partial\n",
    "from PIL import ImageDraw as PImageDraw\n",
    "from torchvision import tv_tensors\n",
    "from torchvision.transforms import v2 as T\n",
    "from transformers import AutoImageProcessor\n",
    "\n",
    "from finetune_utils.Detr import DetrDataLoader"
   ]
  },
  {
   "cell_type": "markdown",
   "metadata": {},
   "source": [
    "### Load HF Dataset"
   ]
  },
  {
   "cell_type": "code",
   "execution_count": null,
   "metadata": {},
   "outputs": [],
   "source": [
    "MODEL_NAME = \"microsoft/conditional-detr-resnet-50\"\n",
    "DATASET_NAME = \"acervos-digitais/ft-0915\""
   ]
  },
  {
   "cell_type": "code",
   "execution_count": null,
   "metadata": {},
   "outputs": [],
   "source": [
    "ft0915_ds = load_dataset(DATASET_NAME)"
   ]
  },
  {
   "cell_type": "code",
   "execution_count": null,
   "metadata": {},
   "outputs": [],
   "source": [
    "categories = ft0915_ds[\"train\"].features[\"objects\"].feature[\"category\"].names\n",
    "\n",
    "id2label = {index: x for index, x in enumerate(categories, start=0)}\n",
    "label2id = {v: k for k, v in id2label.items()}"
   ]
  },
  {
   "cell_type": "markdown",
   "metadata": {},
   "source": [
    "### Test HF Dataset"
   ]
  },
  {
   "cell_type": "code",
   "execution_count": null,
   "metadata": {},
   "outputs": [],
   "source": [
    "img_id = 11\n",
    "image = ft0915_ds[\"train\"][img_id][\"image\"]\n",
    "annotations = ft0915_ds[\"train\"][img_id][\"objects\"]\n",
    "draw = PImageDraw.Draw(image)"
   ]
  },
  {
   "cell_type": "code",
   "execution_count": null,
   "metadata": {},
   "outputs": [],
   "source": [
    "for box,class_idx in zip(annotations[\"bbox\"], annotations[\"category\"]):\n",
    "  x, y, w, h = tuple(box)\n",
    "  x1, y1 = int(x), int(y)\n",
    "  x2, y2 = int(x + w), int(y + h)\n",
    "\n",
    "  draw.rectangle((x, y, x + w, y + h), outline=\"red\", width=1)\n",
    "  draw.text((x+2, y), id2label[class_idx], fill=(0,0,0))\n",
    "  draw.text((x+2, y-12), id2label[class_idx], fill=(255,0,255))\n",
    "\n",
    "display(image)"
   ]
  },
  {
   "cell_type": "markdown",
   "metadata": {},
   "source": [
    "### Define Image transforms"
   ]
  },
  {
   "cell_type": "code",
   "execution_count": null,
   "metadata": {},
   "outputs": [],
   "source": [
    "image_transform = T.Compose([\n",
    "  T.RandomHorizontalFlip(p=0.5),\n",
    "  T.RandomAdjustSharpness(sharpness_factor=2, p=0.5),\n",
    "  T.RandomAutocontrast(p=0.5),\n",
    "  T.RandomEqualize(p=0.5),\n",
    "  T.RandomApply(transforms=[T.RandomAffine(degrees=(-20, 20), translate=(0.1, 0.1), scale=(0.95, 1.05),shear=(-15, 15))], p=0.5),\n",
    "  T.RandomApply(transforms=[T.ColorJitter(brightness=0.5, hue=0.3)], p=0.5)\n",
    "])"
   ]
  },
  {
   "cell_type": "code",
   "execution_count": null,
   "metadata": {},
   "outputs": [],
   "source": [
    "def transform_batch(examples, transform, image_processor, return_pixel_mask=False):\n",
    "  images = []\n",
    "  annotations = []\n",
    "  for image_id, image, objects in zip(examples[\"image_id\"], examples[\"image\"], examples[\"objects\"]):\n",
    "    iw, ih = image.size\n",
    "    objects[\"bbox\"] = tv_tensors.BoundingBoxes(objects[\"bbox\"], format=\"XYWH\", canvas_size=(ih, iw))\n",
    "    image = tv_tensors.Image(image.convert(\"RGB\"))\n",
    "\n",
    "    # apply augmentations\n",
    "    if transform is not None:\n",
    "      image, bboxes, categories = transform(image, objects[\"bbox\"], objects[\"category\"])\n",
    "      objects[\"bbox\"] = bboxes\n",
    "      objects[\"category\"] = categories\n",
    "\n",
    "    images.append(image)\n",
    "\n",
    "    # format annotations in COCO format\n",
    "    formatted_annotations = DetrDataLoader.as_coco(image_id, objects)\n",
    "    annotations.append(formatted_annotations)\n",
    "\n",
    "  # Apply the image processor transformations: resizing, rescaling, normalization\n",
    "  result = image_processor(images=images, annotations=annotations, return_tensors=\"pt\")\n",
    "\n",
    "  if not return_pixel_mask:\n",
    "    result.pop(\"pixel_mask\", None)\n",
    "\n",
    "  return result"
   ]
  },
  {
   "cell_type": "markdown",
   "metadata": {},
   "source": [
    "### Apply Image transforms"
   ]
  },
  {
   "cell_type": "code",
   "execution_count": null,
   "metadata": {},
   "outputs": [],
   "source": [
    "detr_processor = AutoImageProcessor.from_pretrained(MODEL_NAME)\n",
    "\n",
    "detr_processor.image_mean = 0\n",
    "detr_processor.image_std = 1\n",
    "\n",
    "train_transform = partial(transform_batch, transform=image_transform, image_processor=detr_processor, return_pixel_mask=True)\n",
    "# train_transform = partial(transform_batch, transform=None, image_processor=detr_processor, return_pixel_mask=True)\n",
    "train_ds = ft0915_ds[\"train\"].with_transform(train_transform)"
   ]
  },
  {
   "cell_type": "code",
   "execution_count": null,
   "metadata": {},
   "outputs": [],
   "source": [
    "dsi = iter(train_ds)\n",
    "\n",
    "for cnt in range(1):\n",
    "  dsi = iter(train_ds)\n",
    "  for skip in range(15):\n",
    "    next(dsi)\n",
    "  data = next(dsi)\n",
    "  image = T.ToPILImage()(data[\"pixel_values\"])\n",
    "  image.save(f\"img_{cnt}.jpg\")\n",
    "  draw = PImageDraw.Draw(image)\n",
    "  boxes = data[\"labels\"][\"boxes\"].tolist()\n",
    "  labels = data[\"labels\"][\"class_labels\"].tolist()\n",
    "  iw,ih = image.size\n",
    "\n",
    "  for box,label in zip(boxes, labels):\n",
    "    cx, cy, w, h = tuple(box)\n",
    "    x0, y0 = int((cx - w/2)*iw), int((cy - h/2)*ih)\n",
    "    x1, y1 = int((cx + w/2)*iw), int((cy + h/2)*ih)\n",
    "\n",
    "    draw.rectangle((x0, y0, x1, y1), outline=\"white\", width=3)\n",
    "    draw.text((x0+2, y0), id2label[label], fill=(0,0,0))\n",
    "    draw.text((x0+2, y0-12), id2label[label], fill=(255,0,255))\n",
    "\n",
    "  display(image)"
   ]
  }
 ],
 "metadata": {
  "kernelspec": {
   "display_name": "ml",
   "language": "python",
   "name": "python3"
  },
  "language_info": {
   "codemirror_mode": {
    "name": "ipython",
    "version": 3
   },
   "file_extension": ".py",
   "mimetype": "text/x-python",
   "name": "python",
   "nbconvert_exporter": "python",
   "pygments_lexer": "ipython3",
   "version": "3.10.9"
  }
 },
 "nbformat": 4,
 "nbformat_minor": 2
}
