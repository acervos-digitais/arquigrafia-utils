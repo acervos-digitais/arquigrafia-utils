{
 "cells": [
  {
   "cell_type": "code",
   "execution_count": null,
   "metadata": {},
   "outputs": [],
   "source": [
    "import json\n",
    "\n",
    "from IPython.display import clear_output\n",
    "from os import listdir, makedirs, path\n",
    "from PIL import Image as PImage, ImageDraw as PImageDraw, ImageFont as PImageFont\n",
    "from random import sample\n",
    "\n",
    "from parameters.finetune_aww import IMAGES_PATH, OBJECTS, OBJECT2LABEL, DB_FILE_PATH\n",
    "\n",
    "MFONT = PImageFont.load_default(20)\n",
    "\n",
    "OBJS_LABELS_IN = [sorted(o.keys()) for o in OBJECTS]\n",
    "OBJS_LABELS_OUT = [[OBJECT2LABEL.get(l, l) for l in oli] for oli in OBJS_LABELS_IN]\n",
    "OBJS_THOLDS = [[OBJECTS[i][k] for k in oli] for i,oli in enumerate(OBJS_LABELS_IN)]"
   ]
  },
  {
   "cell_type": "code",
   "execution_count": null,
   "metadata": {},
   "outputs": [],
   "source": [
    "with open(DB_FILE_PATH, \"r\") as f:\n",
    "  json_data = json.load(f)\n",
    "  img_data = json_data[\"images\"]\n",
    "  obj_data = json_data[\"objects\"]\n",
    "\n",
    "print({k:len(v) for k,v in obj_data.items()})"
   ]
  },
  {
   "cell_type": "code",
   "execution_count": null,
   "metadata": {},
   "outputs": [],
   "source": [
    "positives = {k:set() for k in obj_data.keys()}\n",
    "negatives = {k:set() for k in obj_data.keys()}\n",
    "label_ids = sorted([[k, str(i)] for k,v in obj_data.items() for i in v ], key=lambda x: f\"{x[0]}{('00000'+x[1])[-5:]}\")"
   ]
  },
  {
   "cell_type": "code",
   "execution_count": null,
   "metadata": {},
   "outputs": [],
   "source": [
    "idx_start = 0\n",
    "for idx,(obj_label,img_id) in enumerate(label_ids[idx_start:]):\n",
    "  input_file_path = path.join(IMAGES_PATH, f\"{img_id}.jpg\")\n",
    "\n",
    "  image = PImage.open(input_file_path).convert(\"RGB\")\n",
    "  iw,ih = image.size\n",
    "\n",
    "  print(idx_start+idx, \":\", img_id)\n",
    "\n",
    "  draw = PImageDraw.Draw(image)\n",
    "  (x0,y0,x1,y1) = img_data[img_id][\"boxes\"][obj_label]\n",
    "  draw.rectangle(((x0*iw, y0*ih), (x1*iw, y1*ih)), outline=(255, 0, 0), width=2)\n",
    "  draw.text((x0*iw, y0*ih - 0), f\"{obj_label}\", (255, 0, 0), font=MFONT)\n",
    "\n",
    "  display(image)\n",
    "\n",
    "  keyp = input(\"y/n/c\")\n",
    "\n",
    "  if keyp == 'y':\n",
    "    positives[obj_label].add(img_id)\n",
    "  elif keyp == 'n':\n",
    "    negatives[obj_label].add(img_id)\n",
    "  elif keyp == 'c':\n",
    "    break\n",
    "\n",
    "  clear_output(wait=True)"
   ]
  },
  {
   "cell_type": "code",
   "execution_count": null,
   "metadata": {},
   "outputs": [],
   "source": [
    "ft = {\n",
    "  \"positives\": {k:list(v) for k,v in positives.items()},\n",
    "  \"negatives\": {k:list(v) for k,v in negatives.items()},\n",
    "}"
   ]
  },
  {
   "cell_type": "code",
   "execution_count": null,
   "metadata": {},
   "outputs": [],
   "source": [
    "with open(\"./metadata/json/pos-neg-ft-aww.json\", \"w\", encoding=\"utf8\") as outf:\n",
    "  json.dump(ft, outf, separators=(',',':'), sort_keys=True, ensure_ascii=False)"
   ]
  },
  {
   "cell_type": "code",
   "execution_count": null,
   "metadata": {},
   "outputs": [],
   "source": [
    "positives = {k:list(v) for k,v in positives.items()}\n",
    "negatives = {k:list(v) for k,v in negatives.items()}"
   ]
  },
  {
   "cell_type": "code",
   "execution_count": null,
   "metadata": {},
   "outputs": [],
   "source": [
    "{k:len(v)  for k,v in positives.items()},\\\n",
    "{k:len(v)  for k,v in negatives.items()}"
   ]
  },
  {
   "cell_type": "code",
   "execution_count": null,
   "metadata": {},
   "outputs": [],
   "source": [
    "dataset_light = []\n",
    "\n",
    "for label,pos_ids in positives.items():\n",
    "  pos_cnt = len(positives[label])\n",
    "  neg_cnt = len(negatives[label])\n",
    "  neg_ids = sample(negatives[label], min(pos_cnt, len(negatives[label])))\n",
    "\n",
    "  for pid in pos_ids:\n",
    "    dataset_light.append([\n",
    "      f\"{pid}.jpg\", img_data[pid][\"boxes\"][label], label\n",
    "    ])\n",
    "\n",
    "  for nid in neg_ids:\n",
    "    dataset_light.append([\n",
    "      f\"{nid}.jpg\", img_data[nid][\"boxes\"][label], f\"not{label}\"\n",
    "    ])"
   ]
  },
  {
   "cell_type": "code",
   "execution_count": null,
   "metadata": {},
   "outputs": [],
   "source": [
    "with open(\"./metadata/json/dataset-ft-aww.json\", \"w\", encoding=\"utf8\") as outf:\n",
    "  json.dump(dataset_light, outf, separators=(',',':'), sort_keys=True, ensure_ascii=False)"
   ]
  }
 ],
 "metadata": {
  "kernelspec": {
   "display_name": "ml",
   "language": "python",
   "name": "python3"
  },
  "language_info": {
   "codemirror_mode": {
    "name": "ipython",
    "version": 3
   },
   "file_extension": ".py",
   "mimetype": "text/x-python",
   "name": "python",
   "nbconvert_exporter": "python",
   "pygments_lexer": "ipython3",
   "version": "3.10.9"
  }
 },
 "nbformat": 4,
 "nbformat_minor": 2
}
