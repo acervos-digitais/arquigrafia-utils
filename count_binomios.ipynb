{
 "cells": [
  {
   "cell_type": "code",
   "execution_count": null,
   "id": "c5236486-596d-46f4-bd17-27253cea582e",
   "metadata": {},
   "outputs": [],
   "source": [
    "import csv\n",
    "import matplotlib.pyplot as plt\n",
    "import numpy as np\n",
    "import pandas as pd\n",
    "\n",
    "from datetime import datetime\n",
    "from os import path\n",
    "\n",
    "CSV_PATH = path.join(\"metadata\", \"csv\")\n",
    "\n",
    "BIN_DB_FILENAME = \"binomios.csv\"\n",
    "BIN_DB_PATH = path.join(CSV_PATH, \"in\", BIN_DB_FILENAME)"
   ]
  },
  {
   "cell_type": "code",
   "execution_count": null,
   "id": "af01f7c1-14d6-4be1-a5db-2d033d07eeb0",
   "metadata": {},
   "outputs": [],
   "source": [
    "BIN_DEFS = {\n",
    "  13: \"Horizontal/Vertical\",\n",
    "  14: \"Translúcida/Opaca\",\n",
    "  16: \"Simétrica/Assimétrica\",\n",
    "  19: \"Complexa/Simples\",\n",
    "  20: \"Interna/Externa\",\n",
    "  21: \"Aberta/Fechada\"\n",
    "}\n",
    "\n",
    "BIN_COLS = list(BIN_DEFS.values())"
   ]
  },
  {
   "cell_type": "code",
   "execution_count": null,
   "id": "adf5f543-dae4-497e-ab7e-2d103b742bdc",
   "metadata": {},
   "outputs": [],
   "source": [
    "def get_key_value(k):\n",
    "  def get_row_value(row):\n",
    "    return row[\"evaluationPosition\"]/100 if k == row[\"binomial_id\"] else np.nan\n",
    "  return get_row_value"
   ]
  },
  {
   "cell_type": "code",
   "execution_count": null,
   "id": "94cf8fe3-f903-46da-bee4-c053a8efc404",
   "metadata": {},
   "outputs": [],
   "source": [
    "bin_df = pd.read_csv(BIN_DB_PATH)\n",
    "\n",
    "# remove default values\n",
    "bin_df = bin_df.loc[bin_df[\"evaluationPosition\"] != 50]\n",
    "\n",
    "for k,v in BIN_DEFS.items():\n",
    "  bin_df[v] = bin_df.apply(get_key_value(k), axis=1)\n",
    "\n",
    "bin_df = bin_df.drop(columns=[\"id\", \"evaluationPosition\", \"binomial_id\", \"knownArchitecture\", \"areArchitecture\"])\n",
    "\n",
    "photo_bin_df = bin_df.groupby([\"photo_id\"], as_index=False).mean()\n",
    "photo_bin_df = photo_bin_df.drop(columns=[\"user_id\"])\n",
    "photo_bin_df"
   ]
  },
  {
   "cell_type": "code",
   "execution_count": null,
   "id": "0861b5fd-1c3d-4b09-b5d0-943d8741e38f",
   "metadata": {},
   "outputs": [],
   "source": [
    "photo_bin_df[BIN_COLS].mean()"
   ]
  },
  {
   "cell_type": "code",
   "execution_count": null,
   "id": "cebca7bf-b910-40f9-882d-3e98acd50fb7",
   "metadata": {},
   "outputs": [],
   "source": [
    "BIN_COUNT_PATH = path.join(CSV_PATH, \"binomios_counts.csv\")\n",
    "\n",
    "photo_bin_df.to_csv(BIN_COUNT_PATH, index=False)"
   ]
  },
  {
   "cell_type": "code",
   "execution_count": null,
   "id": "9464c1c2-7d5e-495e-85a0-fd57aa4e605e",
   "metadata": {},
   "outputs": [],
   "source": [
    "vote_counts = bin_df[\"photo_id\"].value_counts()\n",
    "bin_user_df = bin_df.groupby([\"photo_id\", \"user_id\"], as_index=False).mean()\n",
    "bin_top_df = bin_user_df.loc[bin_user_df[\"photo_id\"] == vote_counts.index[0]]\n",
    "bin_top_df"
   ]
  },
  {
   "cell_type": "code",
   "execution_count": null,
   "id": "1418bf1f-f530-47ce-90dd-e54d4521c702",
   "metadata": {},
   "outputs": [],
   "source": [
    "BIN_TOP_COUNT_PATH = path.join(CSV_PATH, \"binomios_top_counts.csv\")\n",
    "\n",
    "bin_top_df.to_csv(BIN_TOP_COUNT_PATH, index=False)"
   ]
  }
 ],
 "metadata": {
  "kernelspec": {
   "display_name": "Python 3 (ipykernel)",
   "language": "python",
   "name": "python3"
  },
  "language_info": {
   "codemirror_mode": {
    "name": "ipython",
    "version": 3
   },
   "file_extension": ".py",
   "mimetype": "text/x-python",
   "name": "python",
   "nbconvert_exporter": "python",
   "pygments_lexer": "ipython3",
   "version": "3.10.9"
  }
 },
 "nbformat": 4,
 "nbformat_minor": 5
}
