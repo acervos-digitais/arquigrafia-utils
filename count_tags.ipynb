{
 "cells": [
  {
   "cell_type": "code",
   "execution_count": null,
   "id": "0cdd1944-2d4f-4d6d-8221-4069142d5a10",
   "metadata": {},
   "outputs": [],
   "source": [
    "import csv\n",
    "import matplotlib.pyplot as plt\n",
    "import pandas as pd\n",
    "\n",
    "from datetime import datetime\n",
    "from os import path\n",
    "\n",
    "CSV_PATH = path.join(\"metadata\", \"csvs\")\n",
    "\n",
    "TAG_DB_FILENAME = \"tags.csv\"\n",
    "TAG_DB_PATH = path.join(CSV_PATH, TAG_DB_FILENAME)\n",
    "\n",
    "TOP = 16"
   ]
  },
  {
   "cell_type": "code",
   "execution_count": null,
   "id": "db883943-1757-4546-ab70-95514096f289",
   "metadata": {},
   "outputs": [],
   "source": [
    "def get_datetime(val):\n",
    "  return datetime.strptime(val + \"-0300\", \"%Y-%m-%d %H:%M:%S%z\")\n",
    "\n",
    "def get_year(val):\n",
    "  return get_datetime(val).year\n",
    "\n",
    "def get_month(val):\n",
    "  return get_datetime(val).month\n",
    "\n",
    "def get_year_month(val):\n",
    "  dt = get_datetime(val)\n",
    "  return dt.year, dt.month"
   ]
  },
  {
   "cell_type": "code",
   "execution_count": null,
   "id": "04bb2175-8465-46b8-816d-c22d699331d1",
   "metadata": {},
   "outputs": [],
   "source": [
    "tag_df = pd.read_csv(TAG_DB_PATH)\n",
    "\n",
    "tag_df = tag_df.rename(columns={\"name.1\":\"tag\"})\n",
    "\n",
    "tag_df[\"year\"] = tag_df.apply(lambda r: get_year(r[\"dataUpload\"]), axis=1)\n",
    "tag_df[\"month\"] = tag_df.apply(lambda r: get_month(r[\"dataUpload\"]), axis=1)\n",
    "\n",
    "tag_df[\"tag\"] = tag_df.apply(lambda r: str(r[\"tag\"]).lower().strip(), axis=1)\n",
    "\n",
    "tag_df = tag_df.drop(columns=[\"name\", \"id\", \"type\", \"dataUpload\"])\n",
    "\n",
    "tag_df"
   ]
  },
  {
   "cell_type": "code",
   "execution_count": null,
   "id": "edbad82c-6e85-468a-93b3-3045cf36aedd",
   "metadata": {},
   "outputs": [],
   "source": [
    "min_year = tag_df[\"year\"].min()\n",
    "max_year = tag_df[\"year\"].max()\n",
    "\n",
    "total_tags = tag_df.shape[0]\n",
    "unique_tags = tag_df[\"tag\"].unique().shape[0]\n",
    "unique_ids = tag_df[\"photo_id\"].unique().shape[0]\n",
    "\n",
    "tag_counts = tag_df.tag.value_counts()\n",
    "tag_top_counts = tag_counts[:TOP]\n",
    "tag_top_labels = tag_top_counts.index\n",
    "\n",
    "min_year, max_year, total_tags, unique_tags, unique_ids"
   ]
  },
  {
   "cell_type": "markdown",
   "id": "39e80f1f-759f-4c52-bd54-4c3c3f7b6679",
   "metadata": {},
   "source": [
    "### Tag by Photo"
   ]
  },
  {
   "cell_type": "code",
   "execution_count": null,
   "id": "2bbf2810-e465-463a-b118-eb699ae0fb5c",
   "metadata": {},
   "outputs": [],
   "source": [
    "# tags used in more than 1% of images (~140 times)\n",
    "\n",
    "USED_IN_PCT = 1\n",
    "\n",
    "tags_top_pct = tag_counts[tag_counts > int(USED_IN_PCT * unique_ids // 100)].keys().tolist()\n",
    "tag_top_pct_df = tag_df.loc[tag_df[\"tag\"].isin(tags_top_pct)].drop(columns=[\"year\", \"month\"])\n",
    "\n",
    "tag_top_pct_total_tags = tag_top_pct_df.shape[0]\n",
    "tag_top_pct_unique_tags = tag_top_pct_df[\"tag\"].unique().shape[0]\n",
    "tag_top_pct_unique_ids = tag_top_pct_df[\"photo_id\"].unique().shape[0]\n",
    "\n",
    "print(tag_top_pct_total_tags, tag_top_pct_unique_tags, tag_top_pct_unique_ids)\n",
    "\n",
    "tag_top_pct_df"
   ]
  },
  {
   "cell_type": "markdown",
   "id": "6c56807e-54ba-4754-903c-b1e1d562ea79",
   "metadata": {},
   "source": [
    "### Tag Count"
   ]
  },
  {
   "cell_type": "code",
   "execution_count": null,
   "id": "ba68568f-1de9-4612-875f-894e33f984eb",
   "metadata": {},
   "outputs": [],
   "source": [
    "image_by_tag_count = tag_top_pct_df.groupby([\"photo_id\"], as_index=False)[\"photo_id\"].value_counts().sort_values(\"count\", ascending=False)\n",
    "\n",
    "image_by_tag_count"
   ]
  },
  {
   "cell_type": "markdown",
   "id": "25377f4e-3104-401c-8f0d-8ef0276c8e4d",
   "metadata": {},
   "source": [
    "### Tag Correlation"
   ]
  },
  {
   "cell_type": "code",
   "execution_count": null,
   "id": "a958deef-3de4-4ae4-9674-61f6838e5667",
   "metadata": {},
   "outputs": [],
   "source": [
    "tag_top_correlation_abs = {k0: {k1: 0 for k1 in tag_top_labels} for k0 in tag_top_labels}\n",
    "tag_top_correlation_pct = {k0: {k1: 0 for k1 in tag_top_labels} for k0 in tag_top_labels}\n",
    "\n",
    "tag_top_df = tag_df[tag_df[\"tag\"].isin(tag_top_labels)]\n",
    "id_idx = tag_top_df.groupby([\"photo_id\"]).count().index\n",
    "\n",
    "for k in id_idx.tolist():\n",
    "  img_tags = tag_top_df.loc[tag_top_df[\"photo_id\"] == k][\"tag\"].values\n",
    "  for t0 in img_tags:\n",
    "    tag_top_correlation_abs[t0][t0] += 1\n",
    "    for t1 in [ti for ti in img_tags if ti != t0]:\n",
    "      tag_top_correlation_abs[t0][t1] += 1\n",
    "\n",
    "for t0 in tag_top_correlation_abs.keys():\n",
    "  t0_total = tag_top_correlation_abs[t0][t0]\n",
    "  for t1 in tag_top_correlation_abs[t0].keys():\n",
    "    tag_top_correlation_pct[t0][t1] = round(tag_top_correlation_abs[t0][t1] / t0_total, 5)\n",
    "\n",
    "tag_top_correlation_abs[\"concreto\"][\"concreto\"], tag_top_correlation_abs[\"concreto\"], tag_top_correlation_pct[\"concreto\"]"
   ]
  },
  {
   "cell_type": "markdown",
   "id": "800c2abe-cc49-48da-9bab-fb339db4972c",
   "metadata": {},
   "source": [
    "### Tag x Time"
   ]
  },
  {
   "cell_type": "code",
   "execution_count": null,
   "id": "dd10ba09-59ba-4f71-a147-9225dbb3213f",
   "metadata": {},
   "outputs": [],
   "source": [
    "tag_top_by_tagyearmonth = tag_top_df.groupby([\"tag\", \"year\", \"month\"])\n",
    "tag_top_by_yearmonth = tag_top_df.groupby([\"year\", \"month\"])\n",
    "\n",
    "def get_count(year, month, tag=None):\n",
    "  try:\n",
    "    if tag is not None:\n",
    "      cnt = tag_top_by_tagyearmonth.get_group((tag, year, month)).shape[0]\n",
    "    else:\n",
    "      cnt = tag_top_by_yearmonth.get_group((year, month)).shape[0]\n",
    "  except KeyError:\n",
    "    cnt = 0\n",
    "  return cnt"
   ]
  },
  {
   "cell_type": "code",
   "execution_count": null,
   "id": "f4d9df3f-898d-41fc-8f22-8a8396cc74ce",
   "metadata": {},
   "outputs": [],
   "source": [
    "tag_by_month_abs = {}\n",
    "tag_by_year_abs = {}\n",
    "\n",
    "tag_by_month_pct = {}\n",
    "tag_by_year_pct = {}\n",
    "\n",
    "for t in tag_top_labels:\n",
    "  tag_by_month_abs[t] = []\n",
    "  tag_by_year_abs[t] = []\n",
    "  tag_by_month_pct[t] = []\n",
    "  tag_by_year_pct[t] = []\n",
    "  for y in range(min_year, max_year+1):\n",
    "    year_cnt = 0\n",
    "    year_total = 0\n",
    "    for m in range(1, 13):\n",
    "      month_cnt = get_count(y, m, t)\n",
    "      month_total = get_count(y, m)\n",
    "      tag_by_month_abs[t].append(month_cnt)\n",
    "      tag_by_month_pct[t].append(month_cnt if month_total < 1 else (month_cnt / month_total))\n",
    "      year_cnt += month_cnt\n",
    "      year_total += month_total\n",
    "    tag_by_year_abs[t].append(year_cnt)\n",
    "    tag_by_year_pct[t].append(year_cnt if year_total < 1 else (year_cnt / year_total))"
   ]
  },
  {
   "cell_type": "markdown",
   "id": "ab91d5e7-64b9-4298-bc04-e1759e214ad5",
   "metadata": {},
   "source": [
    "### CSV"
   ]
  },
  {
   "cell_type": "code",
   "execution_count": null,
   "id": "c6482625-4608-4432-90c9-b9e82bbe252c",
   "metadata": {},
   "outputs": [],
   "source": [
    "TAG_COUNT_PATH = path.join(CSV_PATH, \"tag_counts.csv\")\n",
    "\n",
    "with open(TAG_COUNT_PATH, 'w', newline='') as csvfile:\n",
    "  fieldnames = [\"tag\", \"count\"]\n",
    "  writer = csv.DictWriter(csvfile, fieldnames=fieldnames)\n",
    "  writer.writeheader()\n",
    "  for k,v in tag_counts.items():\n",
    "    writer.writerow({\"tag\":k, \"count\":v})"
   ]
  },
  {
   "cell_type": "code",
   "execution_count": null,
   "id": "cfee0e8d-f07a-4e0d-8b74-f9a1f0e277a3",
   "metadata": {},
   "outputs": [],
   "source": [
    "TAG_BY_PHOTO_PATH = path.join(CSV_PATH, \"tag_by_photo.csv\")\n",
    "\n",
    "tags_to_str = (\", \".join)\n",
    "\n",
    "tag_tag_by_photo_df = tag_top_pct_df.groupby([\"photo_id\"], as_index=False)[\"tag\"].apply(tags_to_str)\n",
    "\n",
    "tag_tag_by_photo_df.to_csv(TAG_BY_PHOTO_PATH, index=False)"
   ]
  },
  {
   "cell_type": "code",
   "execution_count": null,
   "id": "8b3cd9c1-dbb4-4894-b0b4-131a74abd967",
   "metadata": {},
   "outputs": [],
   "source": [
    "TAG_MONTH_COUNT_PATH = path.join(CSV_PATH, \"tag_monthly_counts.csv\")\n",
    "\n",
    "month_labels = [(\"00\" + str(m))[-2:] for m in range(1, 13)]\n",
    "year_month_labels = [f\"{y}-{m}\" for y in range(min_year, max_year+1) for m in month_labels]\n",
    "\n",
    "with open(TAG_MONTH_COUNT_PATH, 'w', newline='') as csvfile:\n",
    "  fieldnames = [\"tag\"] + year_month_labels\n",
    "  writer = csv.DictWriter(csvfile, fieldnames=fieldnames)\n",
    "  writer.writeheader()\n",
    "  for t in tag_top_labels:\n",
    "    vals = [t] + tag_by_month_abs[t]\n",
    "    writer.writerow({k:v for k,v in zip(fieldnames, vals)})"
   ]
  },
  {
   "cell_type": "code",
   "execution_count": null,
   "id": "300f858f-b6d0-45e7-8812-0dd4d7a1cd63",
   "metadata": {},
   "outputs": [],
   "source": [
    "TAG_YEAR_COUNT_PATH = path.join(CSV_PATH, \"tag_yearly_counts.csv\")\n",
    "\n",
    "year_labels = [f\"{y}\" for y in range(min_year, max_year+1)]\n",
    "\n",
    "with open(TAG_YEAR_COUNT_PATH, 'w', newline='') as csvfile:\n",
    "  fieldnames = [\"tag\"] + year_labels\n",
    "  writer = csv.DictWriter(csvfile, fieldnames=fieldnames)\n",
    "  writer.writeheader()\n",
    "  for t in tag_top_labels:\n",
    "    vals = [t] + tag_by_year_abs[t]\n",
    "    writer.writerow({k:v for k,v in zip(fieldnames, vals)})"
   ]
  },
  {
   "cell_type": "code",
   "execution_count": null,
   "id": "7180407c-051b-4068-b2c4-3017e099d1a5",
   "metadata": {},
   "outputs": [],
   "source": [
    "TAG_CORRELATION_ABS_PATH = path.join(CSV_PATH, \"tag_correlation_abs.csv\")\n",
    "\n",
    "correlation_labels = list(tag_top_correlation_abs.keys())\n",
    "\n",
    "with open(TAG_CORRELATION_ABS_PATH, 'w', newline='') as csvfile:\n",
    "  fieldnames = [\"tag\"] + correlation_labels\n",
    "  writer = csv.DictWriter(csvfile, fieldnames=fieldnames)\n",
    "  writer.writeheader()\n",
    "  for t in correlation_labels:\n",
    "    vals = [t] + list(tag_top_correlation_abs[t].values())\n",
    "    writer.writerow({k:v for k,v in zip(fieldnames, vals)})"
   ]
  },
  {
   "cell_type": "code",
   "execution_count": null,
   "id": "6a0f574f-da83-4161-b758-ee0ec81d8e45",
   "metadata": {},
   "outputs": [],
   "source": [
    "TAG_CORRELATION_PCT_PATH = path.join(CSV_PATH, \"tag_correlation_pct.csv\")\n",
    "\n",
    "correlation_labels = list(tag_top_correlation_pct.keys())\n",
    "\n",
    "with open(TAG_CORRELATION_PCT_PATH, 'w', newline='') as csvfile:\n",
    "  fieldnames = [\"tag\"] + correlation_labels\n",
    "  writer = csv.DictWriter(csvfile, fieldnames=fieldnames)\n",
    "  writer.writeheader()\n",
    "  for t in correlation_labels:\n",
    "    vals = [t] + list(tag_top_correlation_pct[t].values())\n",
    "    writer.writerow({k:v for k,v in zip(fieldnames, vals)})"
   ]
  },
  {
   "cell_type": "markdown",
   "id": "63ee8d21-4064-4776-a0ee-69040aec6371",
   "metadata": {},
   "source": [
    "### Plots"
   ]
  },
  {
   "cell_type": "code",
   "execution_count": null,
   "id": "adbdd9c7-35c7-49b8-8395-946a7ad9741f",
   "metadata": {},
   "outputs": [],
   "source": [
    "def plot_tags(x, y, title, x_skip=None):\n",
    "  plt.figure(figsize=(18, 12))\n",
    "  plt.bar(x, y, log=len(x) > 900)\n",
    "  plt.xticks(fontsize=10, rotation=90)\n",
    "\n",
    "  if x_skip is not None:\n",
    "    for i,l in enumerate(plt.gca().get_xticklabels()):\n",
    "      l.set_visible(i % x_skip == 0)\n",
    "\n",
    "  plt.title(title)\n",
    "  plt.show()"
   ]
  },
  {
   "cell_type": "markdown",
   "id": "231e41e0-27a0-481f-ab60-b771d8ecfec8",
   "metadata": {},
   "source": [
    "### Tags mais usadas"
   ]
  },
  {
   "cell_type": "code",
   "execution_count": null,
   "id": "7a83101e-ff21-4945-9236-d92020af5d8d",
   "metadata": {},
   "outputs": [],
   "source": [
    "plot_tags(tag_top_labels, tag_top_counts.values, f\"Tags (top {TOP})\")"
   ]
  },
  {
   "cell_type": "markdown",
   "id": "4df0239a-6e9b-40b4-8188-68ba52767b94",
   "metadata": {},
   "source": [
    "### Tags por imagens"
   ]
  },
  {
   "cell_type": "code",
   "execution_count": null,
   "id": "3f91ccfe-fce3-4b33-8eec-42138b5cc3f9",
   "metadata": {},
   "outputs": [],
   "source": [
    "y = image_by_tag_count[\"count\"].values\n",
    "x = range(0, len(y))\n",
    "title = \"tags por imagem\"\n",
    "\n",
    "plt.figure(figsize=(18, 12))\n",
    "plt.plot(x, y)\n",
    "\n",
    "plt.xlabel(\"imagens\")\n",
    "plt.ylabel(\"número de tags\")\n",
    "\n",
    "for i,l in enumerate(plt.gca().get_xticklabels()):\n",
    "  l.set_visible(False)\n",
    "\n",
    "plt.title(title)\n",
    "plt.show()"
   ]
  },
  {
   "cell_type": "markdown",
   "id": "764abe60-e4b0-434b-be22-cc90feae9c36",
   "metadata": {},
   "source": [
    "### Tags por mês (absoluto)"
   ]
  },
  {
   "cell_type": "code",
   "execution_count": null,
   "id": "bfa01790-62c1-4b4e-ba85-e0ea201b538a",
   "metadata": {},
   "outputs": [],
   "source": [
    "month_labels = [(\"00\" + str(m))[-2:] for m in range(1, 13)]\n",
    "year_month_labels = [f\"{y}-{m}\" for y in range(min_year, max_year+1) for m in month_labels]\n",
    "\n",
    "for k,v in tag_by_month_abs.items():\n",
    "  plot_tags(year_month_labels, v, f\"{k} por mês (absoluto)\", 3)"
   ]
  },
  {
   "cell_type": "markdown",
   "id": "dd98d012-e6c3-4f88-ac71-712f63af6ee7",
   "metadata": {},
   "source": [
    "### Tags por ano (absoluto)"
   ]
  },
  {
   "cell_type": "code",
   "execution_count": null,
   "id": "a1bcd311-8536-4ef8-a3a1-fd4e2adcb8b7",
   "metadata": {},
   "outputs": [],
   "source": [
    "year_labels = [f\"{y}\" for y in range(min_year, max_year+1)]\n",
    "\n",
    "for k,v in tag_by_year_abs.items():\n",
    "  plot_tags(year_labels, v, f\"{k} por ano (absoluto)\", 3)"
   ]
  },
  {
   "cell_type": "markdown",
   "id": "8b12d43b-2d50-42d0-8992-477e1f628a74",
   "metadata": {},
   "source": [
    "### Tags por mês (relativo ao número total de tags)"
   ]
  },
  {
   "cell_type": "code",
   "execution_count": null,
   "id": "c43cf502-fc88-4235-a1f3-729111738eac",
   "metadata": {
    "scrolled": true
   },
   "outputs": [],
   "source": [
    "month_labels = [(\"00\" + str(m))[-2:] for m in range(1, 13)]\n",
    "year_month_labels = [f\"{y}-{m}\" for y in range(min_year, max_year+1) for m in month_labels]\n",
    "\n",
    "for k,v in tag_by_month_pct.items():\n",
    "  plot_tags(year_month_labels, v, f\"{k} por mês (relativo ao número total de tags)\", 3)"
   ]
  },
  {
   "cell_type": "markdown",
   "id": "bfcb2415-aa64-40dd-a25d-d7ecddfe130c",
   "metadata": {},
   "source": [
    "### Tags por ano (relativo ao número total de tags)"
   ]
  },
  {
   "cell_type": "code",
   "execution_count": null,
   "id": "8ac042f2-4cca-4f20-b717-f366ab49917f",
   "metadata": {},
   "outputs": [],
   "source": [
    "year_labels = [f\"{y}\" for y in range(min_year, max_year+1)]\n",
    "\n",
    "for k,v in tag_by_year_pct.items():\n",
    "  plot_tags(year_labels, v, f\"{k} por ano (relativo ao número total de tags)\", 3)"
   ]
  }
 ],
 "metadata": {
  "kernelspec": {
   "display_name": "Python 3 (ipykernel)",
   "language": "python",
   "name": "python3"
  },
  "language_info": {
   "codemirror_mode": {
    "name": "ipython",
    "version": 3
   },
   "file_extension": ".py",
   "mimetype": "text/x-python",
   "name": "python",
   "nbconvert_exporter": "python",
   "pygments_lexer": "ipython3",
   "version": "3.10.9"
  }
 },
 "nbformat": 4,
 "nbformat_minor": 5
}
