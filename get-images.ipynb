{
 "cells": [
  {
   "cell_type": "code",
   "execution_count": null,
   "metadata": {},
   "outputs": [],
   "source": [
    "import requests\n",
    "\n",
    "from os import makedirs, path\n",
    "from queue import Queue\n",
    "from threading import Thread\n",
    "\n",
    "IMG_PATH = \"../../imgs/arquigrafia\"\n",
    "makedirs(IMG_PATH, exist_ok=True)\n",
    "\n",
    "ARQUI_URL = \"https://www.arquigrafia.org.br/arquigrafia-images/IDNUM_view.jpg\"\n",
    "\n",
    "MIN_ID = 0\n",
    "MAX_ID = 16000"
   ]
  },
  {
   "cell_type": "code",
   "execution_count": null,
   "metadata": {},
   "outputs": [],
   "source": [
    "img_ids = list(range(MIN_ID, MAX_ID+2))\n",
    "jobs = Queue()\n",
    "\n",
    "for in_id in img_ids:\n",
    "  jobs.put(in_id)"
   ]
  },
  {
   "cell_type": "code",
   "execution_count": null,
   "metadata": {},
   "outputs": [],
   "source": [
    "def run_get_images(q):\n",
    "  while not q.empty():\n",
    "    img_id = q.get()\n",
    "\n",
    "    murl = ARQUI_URL.replace(\"IDNUM\", f\"{img_id}\")\n",
    "    out_img_path = path.join(IMG_PATH, f\"{img_id}.jpg\")\n",
    "\n",
    "    if not path.isfile(out_img_path):\n",
    "      response = requests.get(murl, stream=True)\n",
    "      if not response.ok:\n",
    "        print(img_id, response)\n",
    "      else:\n",
    "        print(f\"got {img_id}\")\n",
    "        with open(out_img_path, \"wb\") as fw:\n",
    "          for block in response.iter_content(1024):\n",
    "            if not block:\n",
    "              break\n",
    "            fw.write(block)\n",
    "\n",
    "    q.task_done()"
   ]
  },
  {
   "cell_type": "code",
   "execution_count": null,
   "metadata": {},
   "outputs": [],
   "source": [
    "NUM_THREADS = 8\n",
    "\n",
    "for i in range(NUM_THREADS):\n",
    "    worker = Thread(target=run_get_images, args=(jobs,))\n",
    "    worker.start()\n",
    "\n",
    "jobs.join()"
   ]
  }
 ],
 "metadata": {
  "kernelspec": {
   "display_name": "Python 3",
   "language": "python",
   "name": "python3"
  },
  "language_info": {
   "codemirror_mode": {
    "name": "ipython",
    "version": 3
   },
   "file_extension": ".py",
   "mimetype": "text/x-python",
   "name": "python",
   "nbconvert_exporter": "python",
   "pygments_lexer": "ipython3",
   "version": "3.10.15"
  }
 },
 "nbformat": 4,
 "nbformat_minor": 4
}
