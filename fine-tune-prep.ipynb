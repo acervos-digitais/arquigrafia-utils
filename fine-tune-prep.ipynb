{
 "cells": [
  {
   "cell_type": "markdown",
   "metadata": {},
   "source": [
    "## Read object file and confirm objects"
   ]
  },
  {
   "cell_type": "code",
   "execution_count": null,
   "metadata": {},
   "outputs": [],
   "source": [
    "import json\n",
    "\n",
    "from IPython.display import clear_output\n",
    "from os import listdir, makedirs, path\n",
    "from PIL import Image as PImage, ImageDraw as PImageDraw, ImageFont as PImageFont\n",
    "from random import sample\n",
    "\n",
    "from parameters.finetune_0915 import IMAGES_PATH, OBJECTS, OBJECT2LABEL, DB_FILE_PATH\n",
    "\n",
    "MFONT = PImageFont.load_default(20)\n",
    "\n",
    "OBJS_LABELS_IN = [sorted(o.keys()) for o in OBJECTS]\n",
    "OBJS_LABELS_OUT = [[OBJECT2LABEL.get(l, l) for l in oli] for oli in OBJS_LABELS_IN]\n",
    "OBJS_THOLDS = [[OBJECTS[i][k] for k in oli] for i,oli in enumerate(OBJS_LABELS_IN)]\n",
    "\n",
    "JSON_FILE = \"./metadata/json/pos-neg-ft-0915.json\""
   ]
  },
  {
   "cell_type": "code",
   "execution_count": null,
   "metadata": {},
   "outputs": [],
   "source": [
    "with open(DB_FILE_PATH, \"r\") as f:\n",
    "  json_data = json.load(f)\n",
    "  img_data = json_data[\"images\"]\n",
    "  obj_data = json_data[\"objects\"]\n",
    "\n",
    "print({k:len(v) for k,v in obj_data.items()})"
   ]
  },
  {
   "cell_type": "code",
   "execution_count": null,
   "metadata": {},
   "outputs": [],
   "source": [
    "positives = {k:set() for k in obj_data.keys()}\n",
    "negatives = {k:set() for k in obj_data.keys()}\n",
    "\n",
    "if path.isfile(JSON_FILE):\n",
    "  with open(JSON_FILE, \"r\") as f:\n",
    "    json_data = json.load(f)\n",
    "    positives = {k:set(v) for k,v in json_data[\"positives\"].items()}\n",
    "    negatives = {k:set(v) for k,v in json_data[\"negatives\"].items()}"
   ]
  },
  {
   "cell_type": "code",
   "execution_count": null,
   "metadata": {},
   "outputs": [],
   "source": [
    "label_ids = sorted([[k, str(i)] for k,v in obj_data.items() for i in v ], key=lambda x: f\"{x[0]}{('00000'+x[1])[-5:]}\")"
   ]
  },
  {
   "cell_type": "code",
   "execution_count": null,
   "metadata": {},
   "outputs": [],
   "source": [
    "idx_start = 0\n",
    "for idx,(obj_label,img_id) in enumerate(label_ids[idx_start:]):\n",
    "  input_file_path = path.join(IMAGES_PATH, f\"{img_id}.jpg\")\n",
    "\n",
    "  image = PImage.open(input_file_path).convert(\"RGB\")\n",
    "  iw,ih = image.size\n",
    "\n",
    "  print(idx_start+idx, \":\", img_id)\n",
    "\n",
    "  draw = PImageDraw.Draw(image)\n",
    "  (x0,y0,x1,y1) = img_data[img_id][\"boxes\"][obj_label]\n",
    "  draw.rectangle(((x0*iw, y0*ih), (x1*iw, y1*ih)), outline=(255, 0, 0), width=2)\n",
    "  draw.text((x0*iw, y0*ih - 0), f\"{obj_label}\", (255, 0, 0), font=MFONT)\n",
    "\n",
    "  display(image)\n",
    "\n",
    "  keyp = input(\"y/n/c\")\n",
    "\n",
    "  if keyp == 'y':\n",
    "    positives[obj_label].add(img_id)\n",
    "  elif keyp == 'n':\n",
    "    negatives[obj_label].add(img_id)\n",
    "  elif keyp == 'c':\n",
    "    break\n",
    "\n",
    "  clear_output(wait=True)"
   ]
  },
  {
   "cell_type": "code",
   "execution_count": null,
   "metadata": {},
   "outputs": [],
   "source": [
    "ft = {\n",
    "  \"positives\": {k:list(v) for k,v in positives.items()},\n",
    "  \"negatives\": {k:list(v) for k,v in negatives.items()},\n",
    "}"
   ]
  },
  {
   "cell_type": "code",
   "execution_count": null,
   "metadata": {},
   "outputs": [],
   "source": [
    "with open(JSON_FILE, \"w\", encoding=\"utf8\") as outf:\n",
    "  json.dump(ft, outf, separators=(',',':'), sort_keys=True, ensure_ascii=False)"
   ]
  },
  {
   "cell_type": "markdown",
   "metadata": {},
   "source": [
    "## Create mini-dataset with file,label,box info"
   ]
  },
  {
   "cell_type": "code",
   "execution_count": null,
   "metadata": {},
   "outputs": [],
   "source": [
    "positives = {k:list(v) for k,v in positives.items()}\n",
    "negatives = {k:list(v) for k,v in negatives.items()}\n",
    "\n",
    "if path.isfile(JSON_FILE):\n",
    "  with open(JSON_FILE, \"r\") as f:\n",
    "    json_data = json.load(f)\n",
    "    positives = {k:set(v) for k,v in json_data[\"positives\"].items()}\n",
    "    negatives = {k:set(v) for k,v in json_data[\"negatives\"].items()}"
   ]
  },
  {
   "cell_type": "code",
   "execution_count": null,
   "metadata": {},
   "outputs": [],
   "source": [
    "{k:len(v) for k,v in positives.items()},\\\n",
    "{k:len(v) for k,v in negatives.items()}"
   ]
  },
  {
   "cell_type": "code",
   "execution_count": null,
   "metadata": {},
   "outputs": [],
   "source": [
    "dataset_light = []\n",
    "\n",
    "for label,pos_ids in positives.items():\n",
    "  pos_cnt = len(positives[label])\n",
    "  neg_cnt = len(negatives[label])\n",
    "  neg_ids = sample(negatives[label], min(pos_cnt, neg_cnt))\n",
    "\n",
    "  for pid in pos_ids:\n",
    "    dataset_light.append([\n",
    "      f\"{pid}.jpg\", img_data[pid][\"boxes\"][label], label\n",
    "    ])\n",
    "\n",
    "  for nid in neg_ids:\n",
    "    dataset_light.append([\n",
    "      f\"{nid}.jpg\", img_data[nid][\"boxes\"][label], f\"not{label}\"\n",
    "    ])"
   ]
  },
  {
   "cell_type": "code",
   "execution_count": null,
   "metadata": {},
   "outputs": [],
   "source": [
    "with open(\"./metadata/json/dataset-ft-aww.json\", \"w\", encoding=\"utf8\") as outf:\n",
    "  json.dump(dataset_light, outf, separators=(',',':'), sort_keys=True, ensure_ascii=False)"
   ]
  },
  {
   "cell_type": "markdown",
   "metadata": {},
   "source": [
    "## Prepare HF dataset"
   ]
  },
  {
   "cell_type": "code",
   "execution_count": null,
   "metadata": {},
   "outputs": [],
   "source": [
    "import datasets\n",
    "import json\n",
    "import pandas as pd\n",
    "\n",
    "from os import path\n",
    "from PIL import Image as PImage\n",
    "from random import sample\n",
    "\n",
    "from dataset_utils.finetune_0915 import FTUtils\n",
    "from parameters.finetune_0915 import IMAGES_PATH"
   ]
  },
  {
   "cell_type": "code",
   "execution_count": null,
   "metadata": {},
   "outputs": [],
   "source": [
    "with open(\"./metadata/json/dataset-ft-0915.json\", \"r\") as f:\n",
    "  datasetft = json.load(f)"
   ]
  },
  {
   "cell_type": "code",
   "execution_count": null,
   "metadata": {},
   "outputs": [],
   "source": [
    "label2id = {i:set() for i in FTUtils.LABELS}\n",
    "testids = set()\n",
    "\n",
    "for filename,box,label in datasetft:\n",
    "  if label in label2id:\n",
    "    id = filename.replace(\".jpg\", \"\")\n",
    "    label2id[label].add(id)\n",
    "\n",
    "for k,v in label2id.items():\n",
    "  num_tests = int(len(v) // 5)\n",
    "  for id in sample(list(v), k=num_tests):\n",
    "    testids.add(id)\n",
    "\n",
    "len(testids)"
   ]
  },
  {
   "cell_type": "code",
   "execution_count": null,
   "metadata": {},
   "outputs": [],
   "source": [
    "data = {\n",
    "  \"train\": {},\n",
    "  \"test\": {}\n",
    "}\n",
    "\n",
    "for boxid,(filename, box, label) in enumerate(datasetft):\n",
    "  if label not in FTUtils.LABEL2ID:\n",
    "    continue\n",
    "\n",
    "  filepath = path.join(IMAGES_PATH, filename)\n",
    "  id = filename.replace(\".jpg\", \"\")\n",
    "  split = \"test\" if id in testids else \"train\"\n",
    "  if id not in data[split]:\n",
    "    img = PImage.open(filepath)\n",
    "    data[split][id] = {\n",
    "      \"image_id\": int(id),\n",
    "      \"image\": filepath,\n",
    "      \"image_filename\": filename,\n",
    "      \"width\": img.size[0],\n",
    "      \"height\": img.size[1],\n",
    "      \"objects\": []\n",
    "    }\n",
    "  box_xywh = FTUtils.xyxy_pct_to_xywh(box, data[split][id][\"width\"], data[split][id][\"height\"])\n",
    "  data[split][id][\"objects\"].append({\n",
    "    \"bbox_id\": boxid,\n",
    "    \"area\": box_xywh[2] * box_xywh[3],\n",
    "    \"bbox\": box_xywh,\n",
    "    \"category\": label,\n",
    "    \"super_category\": FTUtils.LABEL2SUPERLABEL[label],\n",
    "    \"is_crowd\": False\n",
    "  })"
   ]
  },
  {
   "cell_type": "code",
   "execution_count": null,
   "metadata": {},
   "outputs": [],
   "source": [
    "ds_dict = {\n",
    "  \"train\": pd.DataFrame(data[\"train\"].values()).to_dict(\"list\"),\n",
    "  \"test\": pd.DataFrame(data[\"test\"].values()).to_dict(\"list\")\n",
    "}"
   ]
  },
  {
   "cell_type": "code",
   "execution_count": null,
   "metadata": {},
   "outputs": [],
   "source": [
    "hf_dataset = datasets.DatasetDict({\n",
    "  split: datasets.Dataset.from_dict(data, features=FTUtils.FEATURES, info=FTUtils.get_dataset_info(), split=split) for split, data in ds_dict.items()\n",
    "})"
   ]
  },
  {
   "cell_type": "code",
   "execution_count": null,
   "metadata": {},
   "outputs": [],
   "source": [
    "HF_DATASET = \"acervos-digitais/ft-0915\"\n",
    "hf_dataset.push_to_hub(HF_DATASET, private=False)"
   ]
  }
 ],
 "metadata": {
  "kernelspec": {
   "display_name": "ml",
   "language": "python",
   "name": "python3"
  },
  "language_info": {
   "codemirror_mode": {
    "name": "ipython",
    "version": 3
   },
   "file_extension": ".py",
   "mimetype": "text/x-python",
   "name": "python",
   "nbconvert_exporter": "python",
   "pygments_lexer": "ipython3",
   "version": "3.10.9"
  }
 },
 "nbformat": 4,
 "nbformat_minor": 2
}
