{
 "cells": [
  {
   "cell_type": "markdown",
   "metadata": {},
   "source": [
    "## Image Embeddings"
   ]
  },
  {
   "cell_type": "code",
   "execution_count": null,
   "metadata": {},
   "outputs": [],
   "source": [
    "import json\n",
    "\n",
    "from os import listdir, makedirs, path\n",
    "\n",
    "from PIL import Image as PImage\n",
    "\n",
    "from parameters.arquigrafia import IMAGES_PATH\n",
    "from parameters.embeddings import EMBEDDINGS_PATH\n",
    "\n",
    "from models.embedding_models import Clip, EfficientNet, ResNet, Vit\n",
    "\n",
    "makedirs(EMBEDDINGS_PATH, exist_ok=True)"
   ]
  },
  {
   "cell_type": "markdown",
   "metadata": {},
   "source": [
    "### Run embeddings"
   ]
  },
  {
   "cell_type": "code",
   "execution_count": null,
   "metadata": {},
   "outputs": [],
   "source": [
    "imgs = [\n",
    "  PImage.open(IMAGES_PATH+\"/100.jpg\"),\n",
    "  PImage.open(IMAGES_PATH+\"/101.jpg\"),\n",
    "  PImage.open(IMAGES_PATH+\"/1000.jpg\"),\n",
    "  PImage.open(IMAGES_PATH+\"/1001.jpg\"),\n",
    "  PImage.open(IMAGES_PATH+\"/1010.jpg\"),\n",
    "  PImage.open(IMAGES_PATH+\"/1011.jpg\"),\n",
    "]\n",
    "\n",
    "img = imgs[0]\n",
    "\n",
    "for i in imgs:\n",
    "  display(i.resize((128,128)))"
   ]
  },
  {
   "cell_type": "code",
   "execution_count": null,
   "metadata": {},
   "outputs": [],
   "source": [
    "emb = ResNet.get_embedding(imgs)\n",
    "print(emb.shape)\n",
    "\n",
    "emb_diff = (emb - emb[1]).pow(2).sum(dim=1).pow(0.5)\n",
    "emb_diff.argsort()"
   ]
  },
  {
   "cell_type": "code",
   "execution_count": null,
   "metadata": {},
   "outputs": [],
   "source": [
    "emb = ResNet.get_embedding(img)\n",
    "print(emb.shape)"
   ]
  },
  {
   "cell_type": "code",
   "execution_count": null,
   "metadata": {},
   "outputs": [],
   "source": [
    "emb = EfficientNet.get_embedding(imgs)\n",
    "print(emb.shape)\n",
    "\n",
    "emb_diff = (emb - emb[1]).pow(2).sum(dim=1).pow(0.5)\n",
    "emb_diff.argsort()"
   ]
  },
  {
   "cell_type": "code",
   "execution_count": null,
   "metadata": {},
   "outputs": [],
   "source": [
    "emb = EfficientNet.get_embedding(img)\n",
    "print(emb.shape)"
   ]
  },
  {
   "cell_type": "code",
   "execution_count": null,
   "metadata": {},
   "outputs": [],
   "source": [
    "emb = Vit.get_embedding(imgs)\n",
    "print(emb.shape)\n",
    "\n",
    "emb_diff = (emb - emb[1]).pow(2).sum(dim=1).pow(0.5)\n",
    "emb_diff.argsort()"
   ]
  },
  {
   "cell_type": "code",
   "execution_count": null,
   "metadata": {},
   "outputs": [],
   "source": [
    "emb = Vit.get_embedding(img)\n",
    "print(emb.shape)"
   ]
  },
  {
   "cell_type": "code",
   "execution_count": null,
   "metadata": {},
   "outputs": [],
   "source": [
    "emb = Clip.get_embedding(imgs)\n",
    "print(emb.shape)\n",
    "\n",
    "emb_diff = (emb - emb[1]).pow(2).sum(dim=1).pow(0.5)\n",
    "emb_diff.argsort()"
   ]
  },
  {
   "cell_type": "code",
   "execution_count": null,
   "metadata": {},
   "outputs": [],
   "source": [
    "emb = Clip.get_embedding(img)\n",
    "print(emb.shape)"
   ]
  },
  {
   "cell_type": "code",
   "execution_count": null,
   "metadata": {},
   "outputs": [],
   "source": [
    "# Open every image and run through model to get embedding\n",
    "# save full embedding\n",
    "# turn embedding into 1,2,3 dimensional number"
   ]
  }
 ],
 "metadata": {
  "kernelspec": {
   "display_name": "ml",
   "language": "python",
   "name": "python3"
  },
  "language_info": {
   "codemirror_mode": {
    "name": "ipython",
    "version": 3
   },
   "file_extension": ".py",
   "mimetype": "text/x-python",
   "name": "python",
   "nbconvert_exporter": "python",
   "pygments_lexer": "ipython3",
   "version": "3.10.15"
  }
 },
 "nbformat": 4,
 "nbformat_minor": 2
}
