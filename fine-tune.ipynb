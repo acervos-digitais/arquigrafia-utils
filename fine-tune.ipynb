{
 "cells": [
  {
   "cell_type": "markdown",
   "metadata": {},
   "source": [
    "## Finetune DETR model"
   ]
  },
  {
   "cell_type": "code",
   "execution_count": null,
   "metadata": {},
   "outputs": [],
   "source": [
    "import gc\n",
    "import pytorch_lightning as pl\n",
    "import torch\n",
    "\n",
    "from PIL import Image as PImage, ImageDraw as PImageDraw\n",
    "from pytorch_lightning import Trainer, loggers as PLLoggers\n",
    "\n",
    "from finetune_utils.finetune_0915 import FTUtils\n",
    "from finetune_utils.Detr import Detr, DetrDataLoader"
   ]
  },
  {
   "cell_type": "markdown",
   "metadata": {},
   "source": [
    "### Load HF Dataset"
   ]
  },
  {
   "cell_type": "code",
   "execution_count": null,
   "metadata": {},
   "outputs": [],
   "source": [
    "MODEL_NAME = \"microsoft/conditional-detr-resnet-50\"\n",
    "DATASET_NAME = \"acervos-digitais/ft-0915\""
   ]
  },
  {
   "cell_type": "code",
   "execution_count": null,
   "metadata": {},
   "outputs": [],
   "source": [
    "mDL = DetrDataLoader(DATASET_NAME, MODEL_NAME)"
   ]
  },
  {
   "cell_type": "markdown",
   "metadata": {},
   "source": [
    "### Test Dataset"
   ]
  },
  {
   "cell_type": "code",
   "execution_count": null,
   "metadata": {},
   "outputs": [],
   "source": [
    "img_id = 11\n",
    "image = mDL.ds[\"train\"][img_id][\"image\"]\n",
    "annotations = mDL.ds[\"train\"][img_id][\"objects\"]\n",
    "draw = PImageDraw.Draw(image)"
   ]
  },
  {
   "cell_type": "code",
   "execution_count": null,
   "metadata": {},
   "outputs": [],
   "source": [
    "for box,class_idx in zip(annotations[\"bbox\"], annotations[\"category\"]):\n",
    "  x, y, w, h = tuple(box)\n",
    "  x1, y1 = int(x), int(y)\n",
    "  x2, y2 = int(x + w), int(y + h)\n",
    "\n",
    "  draw.rectangle((x, y, x + w, y + h), outline=\"red\", width=1)\n",
    "  draw.text((x+2, y), FTUtils.ID2LABEL[class_idx], fill=(0,0,0))\n",
    "  draw.text((x+2, y-12), FTUtils.ID2LABEL[class_idx], fill=(255,0,255))\n",
    "\n",
    "display(image)"
   ]
  },
  {
   "cell_type": "markdown",
   "metadata": {},
   "source": [
    "### Test DataLoader"
   ]
  },
  {
   "cell_type": "code",
   "execution_count": null,
   "metadata": {},
   "outputs": [],
   "source": [
    "# ????"
   ]
  },
  {
   "cell_type": "code",
   "execution_count": null,
   "metadata": {},
   "outputs": [],
   "source": [
    "try:\n",
    "  del model\n",
    "except:\n",
    "  pass\n",
    "\n",
    "gc.collect()\n",
    "torch.cuda.empty_cache()"
   ]
  },
  {
   "cell_type": "code",
   "execution_count": null,
   "metadata": {},
   "outputs": [],
   "source": [
    "model = Detr(model_name=MODEL_NAME, dataloader=mDL, lr=1e-5, lr_backbone=1e-5, weight_decay=1e-4)"
   ]
  },
  {
   "cell_type": "code",
   "execution_count": null,
   "metadata": {},
   "outputs": [],
   "source": [
    "cp = torch.load(\"lightning_logs/76+43e-1e-5lr-augm3/checkpoints/epoch=43-step=3300.ckpt\")\n",
    "model.load_state_dict(cp[\"state_dict\"])"
   ]
  },
  {
   "cell_type": "code",
   "execution_count": null,
   "metadata": {},
   "outputs": [],
   "source": [
    "mLogger = PLLoggers.TensorBoardLogger(save_dir=\".\", version=\"e2-augm3\")\n",
    "trainer = Trainer(accelerator=\"gpu\", max_epochs=2, gradient_clip_val=0.1, logger=mLogger)\n",
    "trainer.fit(model)"
   ]
  },
  {
   "cell_type": "code",
   "execution_count": null,
   "metadata": {},
   "outputs": [],
   "source": [
    "print(model.detr_eval(mDL.ds[\"train\"], min_threshold=0.3, thresholds=[]))\n",
    "print(model.detr_eval(mDL.ds[\"test\"], min_threshold=0.3, thresholds=[]))"
   ]
  },
  {
   "cell_type": "markdown",
   "metadata": {},
   "source": [
    "### Save to HF Hub"
   ]
  },
  {
   "cell_type": "code",
   "execution_count": null,
   "metadata": {},
   "outputs": [],
   "source": [
    "OUTPUT_MODEL_NAME = \"acervos-digitais/conditional-detr-resnet-50-ft-0915-e256-augm3\""
   ]
  },
  {
   "cell_type": "code",
   "execution_count": null,
   "metadata": {},
   "outputs": [],
   "source": [
    "model.model.push_to_hub(OUTPUT_MODEL_NAME)\n",
    "model.processor.push_to_hub(OUTPUT_MODEL_NAME)"
   ]
  },
  {
   "cell_type": "markdown",
   "metadata": {},
   "source": [
    "### Test Model"
   ]
  },
  {
   "cell_type": "code",
   "execution_count": null,
   "metadata": {},
   "outputs": [],
   "source": [
    "import torch\n",
    "\n",
    "from datasets import load_dataset\n",
    "from os import path\n",
    "from PIL import Image as PImage, ImageDraw as PImageDraw, ImageFont as PImageFont\n",
    "from transformers import AutoImageProcessor, AutoModelForObjectDetection\n",
    "\n",
    "from finetune_utils.finetune_0915 import FTUtils\n",
    "\n",
    "MODEL_NAME = OUTPUT_MODEL_NAME"
   ]
  },
  {
   "cell_type": "code",
   "execution_count": null,
   "metadata": {},
   "outputs": [],
   "source": [
    "ft0915_ds = load_dataset(\"acervos-digitais/ft-0915\")\n",
    "\n",
    "detr_processor = AutoImageProcessor.from_pretrained(MODEL_NAME)\n",
    "model = AutoModelForObjectDetection.from_pretrained(\n",
    "  MODEL_NAME,\n",
    "  id2label=FTUtils.ID2LABEL,\n",
    "  label2id=FTUtils.LABEL2ID,\n",
    ").to(\"cuda\")"
   ]
  },
  {
   "cell_type": "markdown",
   "metadata": {},
   "source": [
    "# TODO: fix these with static eval??"
   ]
  },
  {
   "cell_type": "code",
   "execution_count": null,
   "metadata": {},
   "outputs": [],
   "source": [
    "print(eval_detr(model, detr_processor, list(ft0915_ds[\"train\"]), min_threshold=0.3, thresholds=[]))\n",
    "print(eval_detr(model, detr_processor, list(ft0915_ds[\"test\"]), min_threshold=0.3, thresholds=[]))"
   ]
  },
  {
   "cell_type": "code",
   "execution_count": null,
   "metadata": {},
   "outputs": [],
   "source": [
    "thresholds = [0.27, 0.27, 0.55]\n",
    "print(eval_detr(model, detr_processor, list(ft0915_ds[\"train\"]), min_threshold=0.15, thresholds=thresholds))\n",
    "print(eval_detr(model, detr_processor, list(ft0915_ds[\"test\"]), min_threshold=0.15, thresholds=thresholds))"
   ]
  },
  {
   "cell_type": "code",
   "execution_count": null,
   "metadata": {},
   "outputs": [],
   "source": [
    "thresholds = [0.27, 0.27, 0.55]\n",
    "print(eval_detr(model, detr_processor, list(ft0915_ds[\"train\"]), min_threshold=0.15, thresholds=thresholds))\n",
    "print(eval_detr(model, detr_processor, list(ft0915_ds[\"test\"]), min_threshold=0.15, thresholds=thresholds))"
   ]
  },
  {
   "cell_type": "code",
   "execution_count": null,
   "metadata": {},
   "outputs": [],
   "source": [
    "thresholds = [0.26, 0.26, 0.74]\n",
    "print(eval_detr(model, detr_processor, list(ft0915_ds[\"train\"]), min_threshold=0.15, thresholds=thresholds))\n",
    "print(eval_detr(model, detr_processor, list(ft0915_ds[\"test\"]), min_threshold=0.15, thresholds=thresholds))"
   ]
  },
  {
   "cell_type": "markdown",
   "metadata": {},
   "source": [
    "## See some images"
   ]
  },
  {
   "cell_type": "code",
   "execution_count": null,
   "metadata": {},
   "outputs": [],
   "source": [
    "for r in list(ft0915_ds[\"test\"])[:48]:\n",
    "  img = r[\"image\"]\n",
    "  iw, ih = img.size\n",
    "  draw = PImageDraw.Draw(img)\n",
    "\n",
    "  inputs = detr_processor(images=img, return_tensors=\"pt\")\n",
    "  pixel_values = inputs[\"pixel_values\"].to(\"cuda\")\n",
    "\n",
    "  with torch.no_grad():\n",
    "    outputs = model(pixel_values=pixel_values, pixel_mask=None)\n",
    "\n",
    "  ppo = detr_processor.post_process_object_detection(outputs,\n",
    "                                                     target_sizes=[(ih, iw)],\n",
    "                                                     threshold=0.25)[0]\n",
    "\n",
    "  labels_list = [l.item() for l in ppo[\"labels\"]]\n",
    "  scores_list = [round(s.item(),4) for s in ppo[\"scores\"]]\n",
    "\n",
    "  print(\"pred:\", [(FTUtils.ID2LABEL[l],s) for l,s in zip(labels_list, scores_list)])\n",
    "  print(\"labels:\", [FTUtils.ID2LABEL[c] for c in r[\"objects\"][\"category\"]])\n",
    "\n",
    "  for l,b,s in zip(ppo[\"labels\"], ppo[\"boxes\"], ppo[\"scores\"]):\n",
    "    draw.rectangle(((b[0], b[1]), (b[2], b[3])), outline=(255, 0, 0), width=2)\n",
    "\n",
    "  display(img)"
   ]
  }
 ],
 "metadata": {
  "kernelspec": {
   "display_name": "Python 3 (ipykernel)",
   "language": "python",
   "name": "python3"
  },
  "language_info": {
   "codemirror_mode": {
    "name": "ipython",
    "version": 3
   },
   "file_extension": ".py",
   "mimetype": "text/x-python",
   "name": "python",
   "nbconvert_exporter": "python",
   "pygments_lexer": "ipython3",
   "version": "3.10.9"
  }
 },
 "nbformat": 4,
 "nbformat_minor": 4
}
