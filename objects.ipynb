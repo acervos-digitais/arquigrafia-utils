{
 "cells": [
  {
   "cell_type": "markdown",
   "metadata": {},
   "source": [
    "## Object Detection"
   ]
  },
  {
   "cell_type": "code",
   "execution_count": null,
   "metadata": {},
   "outputs": [],
   "source": [
    "import json\n",
    "\n",
    "from os import listdir, makedirs, path\n",
    "\n",
    "from PIL import Image as PImage\n",
    "\n",
    "from dominant_colors import get_dominant_colors, resize_PIL\n",
    "from objects_models import Owl2\n",
    "\n",
    "from parameters.arquigrafia import IMAGES_PATH, OBJECTS_PATH, OBJECTS, OBJECT2LABEL\n",
    "\n",
    "makedirs(OBJECTS_PATH, exist_ok=True)"
   ]
  },
  {
   "cell_type": "code",
   "execution_count": null,
   "metadata": {},
   "outputs": [],
   "source": [
    "OBJS_LABELS_IN = [sorted(o.keys()) for o in OBJECTS]\n",
    "OBJS_LABELS_OUT = [[OBJECT2LABEL.get(l, l) for l in oli] for oli in OBJS_LABELS_IN]\n",
    "OBJS_THOLDS = [[OBJECTS[i][k] for k in oli] for i,oli in enumerate(OBJS_LABELS_IN)]"
   ]
  },
  {
   "cell_type": "markdown",
   "metadata": {},
   "source": [
    "### Run Object Detection"
   ]
  },
  {
   "cell_type": "code",
   "execution_count": null,
   "metadata": {},
   "outputs": [],
   "source": [
    "%%time\n",
    "\n",
    "input_files = sorted([f for f in listdir(IMAGES_PATH) if f.endswith(\"jpg\")])\n",
    "\n",
    "for io_file in input_files[:4096]:\n",
    "  input_file_path = path.join(IMAGES_PATH, io_file)\n",
    "  output_file_path = path.join(OBJECTS_PATH, io_file.replace(\".jpg\", \".json\"))\n",
    "\n",
    "  if path.isfile(output_file_path):\n",
    "    continue\n",
    "\n",
    "  if int(io_file.replace(\".jpg\", \"\")) % 50 == 0:\n",
    "    print(IMAGES_PATH, io_file)\n",
    "\n",
    "  image = PImage.open(input_file_path).convert(\"RGB\")\n",
    "\n",
    "  rgb_by_count, rgb_by_hls = get_dominant_colors(resize_PIL(image))\n",
    "\n",
    "  image_data = {}\n",
    "\n",
    "  image_data[\"boxes\"] = {}\n",
    "  for i in range(len(OBJS_LABELS_IN)):\n",
    "    obj_boxes = Owl2.top_objects(image, OBJS_LABELS_IN[i], OBJS_LABELS_OUT[i], OBJS_THOLDS[i])\n",
    "    image_data[\"boxes\"] = image_data[\"boxes\"] | obj_boxes\n",
    "\n",
    "  image_data[\"dominant_color\"] = {\n",
    "    \"by_count\": [int(v) for v in rgb_by_count[0]],\n",
    "    \"by_hue\": [int(v) for v in rgb_by_hls[0]],\n",
    "    \"palette\": [[int(v) for v in c] for c in rgb_by_hls[:4]],\n",
    "  }\n",
    "\n",
    "  with open(output_file_path, \"w\", encoding=\"utf-8\") as of:\n",
    "    json.dump(image_data, of, sort_keys=True, separators=(',',':'), ensure_ascii=False)"
   ]
  },
  {
   "cell_type": "markdown",
   "metadata": {},
   "source": [
    "### Post-Process: Create output json file"
   ]
  },
  {
   "cell_type": "code",
   "execution_count": null,
   "metadata": {},
   "outputs": [],
   "source": [
    "from parameters.arquigrafia import CAPTIONS_PATH, OBJECTS_PATH, DB_FILE_PATH\n",
    "from export_utils import export_objs_caps\n",
    "\n",
    "export_objs_caps(OBJECTS_PATH, CAPTIONS_PATH, DB_FILE_PATH)"
   ]
  },
  {
   "cell_type": "markdown",
   "metadata": {},
   "source": [
    "### Post-Process: Create separate json files"
   ]
  },
  {
   "cell_type": "code",
   "execution_count": null,
   "metadata": {},
   "outputs": [],
   "source": [
    "from parameters.arquigrafia import OBJECTS_PATH\n",
    "from export_utils import export_by_keys\n",
    "\n",
    "keys = [\"binaries\", \"boxes\"]\n",
    "export_by_keys(OBJECTS_PATH, keys)"
   ]
  },
  {
   "cell_type": "markdown",
   "metadata": {},
   "source": [
    "### Count objects"
   ]
  },
  {
   "cell_type": "code",
   "execution_count": null,
   "metadata": {},
   "outputs": [],
   "source": [
    "import json\n",
    "\n",
    "from parameters.arquigrafia import DB_FILE_PATH, LABEL2DISPLAY\n",
    "\n",
    "with open(DB_FILE_PATH, \"r\") as f:\n",
    "  json_data = json.load(f)\n",
    "  img_data = json_data[\"images\"]\n",
    "  obj_data = json_data[\"objects\"]\n",
    "\n",
    "object_count = sorted([(LABEL2DISPLAY[k], len(a)) for k, a in obj_data.items()], key=lambda x: x[1], reverse=True)\n",
    "\n",
    "for o,c in object_count:\n",
    "  print(o, \":\", c)\n"
   ]
  },
  {
   "cell_type": "markdown",
   "metadata": {},
   "source": [
    "### TEST: boxes from JSON"
   ]
  },
  {
   "cell_type": "code",
   "execution_count": null,
   "metadata": {},
   "outputs": [],
   "source": [
    "import json\n",
    "\n",
    "from os import path\n",
    "from PIL import Image as PImage, ImageDraw as PImageDraw, ImageFont as PImageFont\n",
    "\n",
    "from parameters.arquigrafia import IMAGES_PATH, DB_FILE_PATH, LABEL2DISPLAY\n",
    "\n",
    "MFONT = PImageFont.load_default(20)\n",
    "\n",
    "with open(DB_FILE_PATH, \"r\") as f:\n",
    "  json_data = json.load(f)\n",
    "  img_data = json_data[\"images\"]\n",
    "  obj_data = json_data[\"objects\"]\n",
    "\n",
    "for id, d in list(img_data.items())[:3]:\n",
    "  img_path = path.join(IMAGES_PATH, f\"{id}.jpg\")\n",
    "  img = PImage.open(img_path).convert(\"RGBA\")\n",
    "  iw,ih = img.size\n",
    "  draw = PImageDraw.Draw(img)\n",
    "  for label, (x0,y0,x1,y1) in d[\"boxes\"].items():\n",
    "    draw.rectangle(((x0*iw, y0*ih), (x1*iw, y1*ih)), outline=(255, 0, 0), width=2)\n",
    "  print([LABEL2DISPLAY[l] for l in d[\"boxes\"].keys()], \"\\n\", d[\"captions\"][\"en\"][\"blip\"])\n",
    "  display(img)"
   ]
  },
  {
   "cell_type": "markdown",
   "metadata": {},
   "source": [
    "### TEST: Dominant Color"
   ]
  },
  {
   "cell_type": "code",
   "execution_count": null,
   "metadata": {},
   "outputs": [],
   "source": [
    "import numpy as np\n",
    "\n",
    "from os import listdir, path\n",
    "from PIL import Image as PImage\n",
    "\n",
    "from parameters.arquigrafia import IMAGES_PATH\n",
    "from dominant_colors import get_dominant_colors, resize_PIL\n",
    "\n",
    "INPUT_FILES = sorted([f for f in listdir(IMAGES_PATH) if f.endswith(\"jpg\")])\n",
    "\n",
    "io_file = INPUT_FILES[0]\n",
    "input_file_path = path.join(IMAGES_PATH, io_file)"
   ]
  },
  {
   "cell_type": "code",
   "execution_count": null,
   "metadata": {},
   "outputs": [],
   "source": [
    "image = PImage.open(input_file_path).convert(\"RGB\")\n",
    "image_s = resize_PIL(image)\n",
    "rgb_by_count, rgb_by_hls = get_dominant_colors(image_s)"
   ]
  },
  {
   "cell_type": "code",
   "execution_count": null,
   "metadata": {},
   "outputs": [],
   "source": [
    "iw, ih = [(d // 2) * 2 for d in image_s.size]\n",
    "image_shape = (ih, iw, 3)\n",
    "ppc = int(ih * iw / len(rgb_by_count))\n",
    "\n",
    "count_np_image = np.array([ppc * [c] for c in rgb_by_count]).reshape(image_shape)\n",
    "hls_np_image = np.array([ppc * [c] for c in rgb_by_hls]).reshape(image_shape)\n",
    "\n",
    "display(image_s)\n",
    "display(PImage.fromarray(count_np_image))\n",
    "display(PImage.fromarray(hls_np_image))"
   ]
  },
  {
   "cell_type": "markdown",
   "metadata": {},
   "source": [
    "### Separate/Copy image files for threshold adjustment"
   ]
  },
  {
   "cell_type": "code",
   "execution_count": null,
   "metadata": {},
   "outputs": [],
   "source": [
    "import shutil\n",
    "\n",
    "from os import path, makedirs\n",
    "\n",
    "from parameters.arquigrafia import IMAGES_PATH\n",
    "\n",
    "tocopy = [\n",
    "  'vehicle',\n",
    "]\n",
    "\n",
    "for o in tocopy:\n",
    "  print(o, len(obj_data[o]), obj_data[o], \"\\n\")\n",
    "  img_out_dir = f\"test-{o.replace(' ', '-')}\"\n",
    "  img_out_dir_path = path.join(IMAGES_PATH.replace(\"arquigrafia\", img_out_dir))\n",
    "  makedirs(img_out_dir_path, exist_ok=True)\n",
    "  for i in obj_data[o]:\n",
    "    img_in_path = path.join(IMAGES_PATH, f\"{i}.jpg\")\n",
    "    shutil.copy2(img_in_path, img_out_dir_path)"
   ]
  },
  {
   "cell_type": "markdown",
   "metadata": {},
   "source": [
    "### Adjust Thresholds"
   ]
  },
  {
   "cell_type": "code",
   "execution_count": null,
   "metadata": {},
   "outputs": [],
   "source": [
    "import json\n",
    "\n",
    "from os import path, listdir\n",
    "from PIL import Image as PImage, ImageDraw as PImageDraw, ImageFont as PImageFont\n",
    "\n",
    "from models import Owl2\n",
    "from parameters.finetune import IMAGES_PATH, DB_FILE_PATH, OBJECTS, OBJECT2LABEL\n",
    "\n",
    "with open(DB_FILE_PATH, \"r\") as f:\n",
    "  json_data = json.load(f)\n",
    "  img_data = json_data[\"images\"]\n",
    "  obj_data = json_data[\"objects\"]\n",
    "\n",
    "print(obj_data.keys(), len(obj_data.keys()))"
   ]
  },
  {
   "cell_type": "code",
   "execution_count": null,
   "metadata": {},
   "outputs": [],
   "source": [
    "MFONT = PImageFont.load_default(20)\n",
    "\n",
    "OBJS_LABELS_IN = [sorted(o.keys()) for o in OBJECTS]\n",
    "OBJS_LABELS_OUT = [[OBJECT2LABEL.get(l, l) for l in oli] for oli in OBJS_LABELS_IN]\n",
    "OBJS_THOLDS = [[OBJECTS[i][k] for k in oli] for i,oli in enumerate(OBJS_LABELS_IN)]"
   ]
  },
  {
   "cell_type": "code",
   "execution_count": null,
   "metadata": {},
   "outputs": [],
   "source": [
    "input_files = sorted([f for f in listdir(IMAGES_PATH) if f.endswith(\"jpg\")])\n",
    "\n",
    "for io_file in input_files:\n",
    "  input_file_path = path.join(IMAGES_PATH, io_file)\n",
    "\n",
    "  image = PImage.open(input_file_path).convert(\"RGB\")\n",
    "  iw,ih = image.size\n",
    "  print(image.size)\n",
    "\n",
    "  objs = []\n",
    "  for i in range(len(OBJS_LABELS_IN)):\n",
    "    objs += Owl2.all_objects(image, OBJS_LABELS_IN[i], OBJS_LABELS_OUT[i], OBJS_THOLDS[i])\n",
    "\n",
    "  print([f'{o[\"label\"]}: {o[\"score\"]}' for o in objs])\n",
    "\n",
    "  draw = PImageDraw.Draw(image)\n",
    "  for o in objs:\n",
    "    (x0,y0,x1,y1) = o[\"box\"]\n",
    "    score, label = o[\"score\"].item(), o[\"label\"]\n",
    "    draw.rectangle(((x0*iw, y0*ih), (x1*iw, y1*ih)), outline=(255, 0, 0), width=2)\n",
    "    draw.text((x0*iw, y0*ih + 20), f\"{round(score, 3)}\", (255, 255, 255), font=MFONT)\n",
    "    draw.text((x0*iw, y0*ih - 0), f\"{label}\", (255, 0, 0), font=MFONT)\n",
    "  display(image)"
   ]
  }
 ],
 "metadata": {
  "kernelspec": {
   "display_name": "Python 3 (ipykernel)",
   "language": "python",
   "name": "python3"
  },
  "language_info": {
   "codemirror_mode": {
    "name": "ipython",
    "version": 3
   },
   "file_extension": ".py",
   "mimetype": "text/x-python",
   "name": "python",
   "nbconvert_exporter": "python",
   "pygments_lexer": "ipython3",
   "version": "3.10.9"
  }
 },
 "nbformat": 4,
 "nbformat_minor": 4
}
