{
 "cells": [
  {
   "cell_type": "markdown",
   "metadata": {},
   "source": [
    "## Image Embeddings"
   ]
  },
  {
   "cell_type": "code",
   "execution_count": null,
   "metadata": {},
   "outputs": [],
   "source": [
    "import json\n",
    "import matplotlib.pyplot as plt\n",
    "import numpy as np\n",
    "\n",
    "from os import listdir, makedirs, path\n",
    "\n",
    "from sklearn.cluster import KMeans\n",
    "from sklearn.manifold import TSNE\n",
    "from sklearn.metrics import silhouette_score\n",
    "from sklearn.decomposition import PCA\n",
    "from sklearn.preprocessing import StandardScaler\n",
    "\n",
    "from PIL import Image as PImage, ImageOps as PImageOps\n",
    "\n",
    "from parameters.arquigrafia import IMAGES_PATH\n",
    "from parameters.embeddings import EMBEDDINGS_PATH\n",
    "\n",
    "from models.embedding_models import Clip, EfficientNet, ResNet, Vit\n",
    "\n",
    "makedirs(EMBEDDINGS_PATH, exist_ok=True)"
   ]
  },
  {
   "cell_type": "markdown",
   "metadata": {},
   "source": [
    "### Run embeddings"
   ]
  },
  {
   "cell_type": "code",
   "execution_count": null,
   "metadata": {},
   "outputs": [],
   "source": [
    "input_files = sorted([f for f in listdir(IMAGES_PATH) if f.endswith(\"jpg\")])\n",
    "\n",
    "for idx, io_file in list(enumerate(input_files))[:]:\n",
    "  input_file_path = path.join(IMAGES_PATH, io_file)\n",
    "  output_file_path = path.join(EMBEDDINGS_PATH, io_file.replace(\".jpg\", \".json\"))\n",
    "\n",
    "  if path.isfile(output_file_path):\n",
    "    continue\n",
    "\n",
    "  if idx % 100 == 0:\n",
    "    print(idx, IMAGES_PATH, io_file)\n",
    "\n",
    "  image = PImageOps.exif_transpose(PImage.open(input_file_path).convert(\"RGB\"))\n",
    "\n",
    "  raw_embs = {}\n",
    "\n",
    "  raw_embs[\"clip\"] = Clip.get_embedding(image).tolist()\n",
    "  raw_embs[\"efficient\"] = EfficientNet.get_embedding(image).tolist()\n",
    "  raw_embs[\"resnet\"] = ResNet.get_embedding(image).tolist()\n",
    "  raw_embs[\"vit\"] = Vit.get_embedding(image).tolist()\n",
    "\n",
    "  image_embs = {\"raw\": raw_embs}\n",
    "\n",
    "  with open(output_file_path, \"w\", encoding=\"utf-8\") as of:\n",
    "    json.dump(image_embs, of, sort_keys=True, separators=(',',':'), ensure_ascii=False)"
   ]
  },
  {
   "cell_type": "markdown",
   "metadata": {},
   "source": [
    "### Load Embeddings"
   ]
  },
  {
   "cell_type": "code",
   "execution_count": null,
   "metadata": {},
   "outputs": [],
   "source": [
    "input_files = sorted([f for f in listdir(IMAGES_PATH) if f.endswith(\"jpg\")])\n",
    "\n",
    "raw_embs = {}\n",
    "\n",
    "for idx, io_file in enumerate(input_files):\n",
    "  output_file_path = path.join(EMBEDDINGS_PATH, io_file.replace(\".jpg\", \".json\"))\n",
    "\n",
    "  if not path.isfile(output_file_path):\n",
    "    continue\n",
    "\n",
    "  if idx % 100 == 0:\n",
    "    print(idx, IMAGES_PATH, io_file)\n",
    "\n",
    "  with open(output_file_path, \"r\", encoding=\"utf8\") as f:\n",
    "    image_embs = json.load(f)\n",
    "\n",
    "  for k,e in image_embs[\"raw\"].items():\n",
    "    if k not in raw_embs:\n",
    "      raw_embs[k] = []\n",
    "    raw_embs[k].append(e)"
   ]
  },
  {
   "cell_type": "markdown",
   "metadata": {},
   "source": [
    "### Cluster"
   ]
  },
  {
   "cell_type": "code",
   "execution_count": null,
   "metadata": {},
   "outputs": [],
   "source": [
    "def pca_kmeans(emb_raw, n_clusters=8, n_components=128):\n",
    "  mPCA = PCA(n_components=n_components)\n",
    "  mCluster = KMeans(n_clusters=n_clusters)\n",
    "\n",
    "  emb_reduced = mPCA.fit_transform(StandardScaler().fit_transform(emb_raw))\n",
    "  emb_clusters = mCluster.fit_predict(emb_reduced)\n",
    "\n",
    "  return emb_reduced, emb_clusters, mCluster.cluster_centers_\n",
    "\n",
    "def tsne_kmeans(emb_raw, n_clusters=8, n_components=3, perplexity=30):\n",
    "  mTSNE = TSNE(n_components=n_components, perplexity=perplexity)\n",
    "  mCluster = KMeans(n_clusters=n_clusters)\n",
    "\n",
    "  emb_reduced = mTSNE.fit_transform(StandardScaler().fit_transform(emb_raw))\n",
    "  emb_clusters = mCluster.fit_predict(emb_reduced)\n",
    "\n",
    "  return emb_reduced, emb_clusters, mCluster.cluster_centers_"
   ]
  },
  {
   "cell_type": "code",
   "execution_count": null,
   "metadata": {},
   "outputs": [],
   "source": [
    "def plot_clusters(clusters, pcas, title=\"\"):\n",
    "  sizes = [0 if c < 0 else 24 for c in clusters]\n",
    "  dims = pcas.shape[1]\n",
    "  plot_dims = min(dims, 3)\n",
    "\n",
    "  for i in range(plot_dims):\n",
    "    for j in range(i+1, plot_dims):\n",
    "      plt.scatter(pcas[:,i], pcas[:,j],\n",
    "                  marker='o', s=sizes, c=clusters, alpha=0.35, cmap=\"tab10\", edgecolors=\"none\")\n",
    "      plt.title(title)\n",
    "      plt.show()\n",
    "\n",
    "  # 3D\n",
    "  if dims > 2:\n",
    "    fig = plt.figure(figsize=(8, 8))\n",
    "    ax = fig.add_subplot(projection='3d')\n",
    "    ax.scatter(pcas[:,0], pcas[:,1], pcas[:,2],\n",
    "              marker='o', s=sizes, c=clusters, alpha=0.35, cmap=\"tab10\", edgecolors=\"none\")\n",
    "    ax.set_title(title)\n",
    "    plt.show()"
   ]
  },
  {
   "cell_type": "code",
   "execution_count": null,
   "metadata": {},
   "outputs": [],
   "source": [
    "def plot_cluster_elbows(embs, title, min_clusters=2, max_clusters=10):\n",
    "  sil = []\n",
    "  ncs = range(min_clusters, max_clusters+1)\n",
    "  for nc in ncs:\n",
    "    _pca, _clusters, _ = pca_kmeans(embs, n_clusters=nc)\n",
    "    _sil = silhouette_score(_pca, _clusters)\n",
    "    sil.append(_sil)\n",
    "\n",
    "  plt.plot(ncs, sil)\n",
    "  plt.title(f\"{title} - Silhouette Score\")\n",
    "  plt.show()"
   ]
  },
  {
   "cell_type": "code",
   "execution_count": null,
   "metadata": {},
   "outputs": [],
   "source": [
    "def plot_pca_elbows(embs, title):\n",
    "  sil = []\n",
    "  ncs = [min(len(embs), len(embs[0]), 2 ** i) for i in range(11)]\n",
    "  ncs.append(min(len(embs), len(embs[0])))\n",
    "  for nc in ncs:\n",
    "    _pca, _clusters, _ = pca_kmeans(embs, n_components=nc, n_clusters=8)\n",
    "    _sil = silhouette_score(_pca, _clusters)\n",
    "    sil.append(_sil)\n",
    "\n",
    "  plt.plot(ncs, sil)\n",
    "  plt.title(f\"{title} - Silhouette Score\")\n",
    "  plt.show()"
   ]
  },
  {
   "cell_type": "code",
   "execution_count": null,
   "metadata": {},
   "outputs": [],
   "source": [
    "for m in [\"clip\", \"efficient\", \"resnet\", \"vit\"]:\n",
    "  plot_cluster_elbows(raw_embs[m], m)"
   ]
  },
  {
   "cell_type": "code",
   "execution_count": null,
   "metadata": {},
   "outputs": [],
   "source": [
    "for m in [\"clip\", \"efficient\", \"resnet\", \"vit\"]:\n",
    "  plot_pca_elbows(raw_embs[m], m)"
   ]
  },
  {
   "cell_type": "code",
   "execution_count": null,
   "metadata": {},
   "outputs": [],
   "source": [
    "for m in [\"clip\", \"efficient\", \"resnet\", \"vit\"]:\n",
    "  _pca, _clusters, _ = pca_kmeans(raw_embs[m])\n",
    "  plot_clusters(_clusters, _pca, title=m)"
   ]
  },
  {
   "cell_type": "code",
   "execution_count": null,
   "metadata": {},
   "outputs": [],
   "source": [
    "clip_pca, clip_clusters, clip_centers = pca_kmeans(raw_embs[\"clip\"])"
   ]
  },
  {
   "cell_type": "code",
   "execution_count": null,
   "metadata": {},
   "outputs": [],
   "source": [
    "efficient_pca, efficient_clusters, efficient_centers = pca_kmeans(raw_embs[\"efficient\"])"
   ]
  },
  {
   "cell_type": "code",
   "execution_count": null,
   "metadata": {},
   "outputs": [],
   "source": [
    "resnet_pca, resnet_clusters, resnet_centers = pca_kmeans(raw_embs[\"resnet\"])"
   ]
  },
  {
   "cell_type": "code",
   "execution_count": null,
   "metadata": {},
   "outputs": [],
   "source": [
    "vit_pca, vit_clusters, vit_centers = pca_kmeans(raw_embs[\"vit\"])"
   ]
  },
  {
   "cell_type": "code",
   "execution_count": null,
   "metadata": {},
   "outputs": [],
   "source": [
    "input_files = sorted([f for f in listdir(IMAGES_PATH) if f.endswith(\"jpg\")])"
   ]
  },
  {
   "cell_type": "code",
   "execution_count": null,
   "metadata": {},
   "outputs": [],
   "source": [
    "m_pca, m_clusters, m_centers = pca_kmeans(raw_embs[\"resnet\"])\n",
    "\n",
    "for c in np.unique(m_clusters):\n",
    "  cluster_center = m_centers[c]\n",
    "  cluster_idxs = np.where(m_clusters == c)[0]\n",
    "  cluster_pcas = m_pca[cluster_idxs]\n",
    "  pca_center_dists = np.linalg.norm(cluster_pcas - cluster_center, axis=1)\n",
    "  cluster_idxs_sorted = cluster_idxs[pca_center_dists.argsort()]\n",
    "\n",
    "  fig, axes = plt.subplots(nrows=8, ncols=8)\n",
    "  fig.set_size_inches(10, 10)\n",
    "  fig.set_dpi(72)\n",
    "\n",
    "  fig.suptitle(f\"Cluster {c}\")\n",
    "  for ciidx, ax in enumerate(axes.flat):\n",
    "    iidx = cluster_idxs_sorted[ciidx]\n",
    "    img = PImage.open(path.join(IMAGES_PATH, input_files[iidx])).convert(\"RGB\")\n",
    "    img = PImageOps.exif_transpose(img).resize((128,128))\n",
    "    ax.imshow(img)\n",
    "    ax.axis(\"off\")\n",
    "\n",
    "  plt.tight_layout()\n",
    "  plt.show()"
   ]
  },
  {
   "cell_type": "markdown",
   "metadata": {},
   "source": [
    "### Load Clip Embeddings"
   ]
  },
  {
   "cell_type": "code",
   "execution_count": null,
   "metadata": {},
   "outputs": [],
   "source": [
    "input_files = sorted([f for f in listdir(IMAGES_PATH) if f.endswith(\"jpg\")])\n",
    "\n",
    "clip_embs = {}\n",
    "\n",
    "for idx, io_file in enumerate(input_files):\n",
    "  output_file_path = path.join(EMBEDDINGS_PATH, io_file.replace(\".jpg\", \".json\"))\n",
    "  img_id = io_file.replace(\".jpg\", \"\")\n",
    "\n",
    "  if not path.isfile(output_file_path):\n",
    "    continue\n",
    "\n",
    "  if idx % 100 == 0:\n",
    "    print(idx, IMAGES_PATH, io_file)\n",
    "\n",
    "  with open(output_file_path, \"r\", encoding=\"utf8\") as f:\n",
    "    image_embs = json.load(f)\n",
    "\n",
    "  clip_embs[img_id] = {}\n",
    "  clip_embs[img_id][\"raw\"] = [round(x, 8) for x in image_embs[\"raw\"][\"clip\"]]"
   ]
  },
  {
   "cell_type": "code",
   "execution_count": null,
   "metadata": {},
   "outputs": [],
   "source": [
    "clip_raw_vals = [e[\"raw\"] for e in clip_embs.values()]"
   ]
  },
  {
   "cell_type": "code",
   "execution_count": null,
   "metadata": {},
   "outputs": [],
   "source": [
    "clip_pca_vals, clip_pca_clusters, clip_pca_centers = pca_kmeans(clip_raw_vals)\n",
    "plot_clusters(clip_pca_clusters, clip_pca_vals, title=\"clip pca\")"
   ]
  },
  {
   "cell_type": "code",
   "execution_count": null,
   "metadata": {},
   "outputs": [],
   "source": [
    "clip_tsne_vals, clip_tsne_clusters, clip_tsne_centers = tsne_kmeans(clip_raw_vals)\n",
    "plot_clusters(clip_tsne_clusters, clip_tsne_vals, title=\"clip tsne\")"
   ]
  },
  {
   "cell_type": "code",
   "execution_count": null,
   "metadata": {},
   "outputs": [],
   "source": [
    "for idx, io_file in enumerate(input_files):\n",
    "  img_id = io_file.replace(\".jpg\", \"\")\n",
    "  clip_embs[img_id][\"pca\"] = [round(float(x),8) for x in clip_pca_vals[idx]]\n",
    "  clip_embs[img_id][\"tsne\"] = [round(float(x),8) for x in clip_tsne_vals[idx]]"
   ]
  },
  {
   "cell_type": "code",
   "execution_count": null,
   "metadata": {},
   "outputs": [],
   "source": [
    "output_file_path = \"/kaggle/working/embeddings_clip.json\"\n",
    "with open(output_file_path, \"w\", encoding=\"utf-8\") as of:\n",
    "    json.dump(clip_embs, of, sort_keys=True, separators=(',',':'), ensure_ascii=False)"
   ]
  },
  {
   "cell_type": "code",
   "execution_count": null,
   "metadata": {},
   "outputs": [],
   "source": [
    "imgs = [\n",
    "  PImage.open(IMAGES_PATH+\"/100.jpg\"),\n",
    "  PImage.open(IMAGES_PATH+\"/101.jpg\"),\n",
    "  PImage.open(IMAGES_PATH+\"/1000.jpg\"),\n",
    "  PImage.open(IMAGES_PATH+\"/1001.jpg\"),\n",
    "  PImage.open(IMAGES_PATH+\"/1010.jpg\"),\n",
    "  PImage.open(IMAGES_PATH+\"/1011.jpg\"),\n",
    "]\n",
    "\n",
    "img = imgs[0]\n",
    "\n",
    "for i in imgs:\n",
    "  display(i.resize((128,128)))"
   ]
  },
  {
   "cell_type": "code",
   "execution_count": null,
   "metadata": {},
   "outputs": [],
   "source": [
    "emb = ResNet.get_embedding(imgs)\n",
    "print(emb.shape)\n",
    "\n",
    "emb_diff = (emb - emb[1]).pow(2).sum(dim=1).pow(0.5)\n",
    "emb_diff.argsort()"
   ]
  },
  {
   "cell_type": "code",
   "execution_count": null,
   "metadata": {},
   "outputs": [],
   "source": [
    "emb = ResNet.get_embedding(img)\n",
    "print(emb.shape)"
   ]
  },
  {
   "cell_type": "code",
   "execution_count": null,
   "metadata": {},
   "outputs": [],
   "source": [
    "emb = EfficientNet.get_embedding(imgs)\n",
    "print(emb.shape)\n",
    "\n",
    "emb_diff = (emb - emb[1]).pow(2).sum(dim=1).pow(0.5)\n",
    "emb_diff.argsort()"
   ]
  },
  {
   "cell_type": "code",
   "execution_count": null,
   "metadata": {},
   "outputs": [],
   "source": [
    "emb = EfficientNet.get_embedding(img)\n",
    "print(emb.shape)"
   ]
  },
  {
   "cell_type": "code",
   "execution_count": null,
   "metadata": {},
   "outputs": [],
   "source": [
    "emb = Vit.get_embedding(imgs)\n",
    "print(emb.shape)\n",
    "\n",
    "emb_diff = (emb - emb[1]).pow(2).sum(dim=1).pow(0.5)\n",
    "emb_diff.argsort()"
   ]
  },
  {
   "cell_type": "code",
   "execution_count": null,
   "metadata": {},
   "outputs": [],
   "source": [
    "emb = Vit.get_embedding(img)\n",
    "print(emb.shape)"
   ]
  },
  {
   "cell_type": "code",
   "execution_count": null,
   "metadata": {},
   "outputs": [],
   "source": [
    "emb = Clip.get_embedding(imgs)\n",
    "print(emb.shape)\n",
    "\n",
    "emb_diff = (emb - emb[1]).pow(2).sum(dim=1).pow(0.5)\n",
    "emb_diff.argsort()"
   ]
  },
  {
   "cell_type": "code",
   "execution_count": null,
   "metadata": {},
   "outputs": [],
   "source": [
    "emb = Clip.get_embedding(img)\n",
    "print(emb.shape)"
   ]
  }
 ],
 "metadata": {
  "kernelspec": {
   "display_name": "ml",
   "language": "python",
   "name": "python3"
  },
  "language_info": {
   "codemirror_mode": {
    "name": "ipython",
    "version": 3
   },
   "file_extension": ".py",
   "mimetype": "text/x-python",
   "name": "python",
   "nbconvert_exporter": "python",
   "pygments_lexer": "ipython3",
   "version": "3.10.15"
  }
 },
 "nbformat": 4,
 "nbformat_minor": 2
}
