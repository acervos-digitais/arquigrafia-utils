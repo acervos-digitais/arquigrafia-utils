{
 "cells": [
  {
   "cell_type": "code",
   "execution_count": null,
   "metadata": {},
   "outputs": [],
   "source": [
    "import requests\n",
    "\n",
    "from os import makedirs, path\n",
    "\n",
    "IMG_PATH = \"../../imgs/arquigrafia\"\n",
    "makedirs(IMG_PATH, exist_ok=True)\n",
    "\n",
    "ARQUI_URL = \"https://www.arquigrafia.org.br/arquigrafia-images/IDNUM_view.jpg\"\n",
    "\n",
    "MIN_ID = 0\n",
    "MAX_ID = 15385"
   ]
  },
  {
   "cell_type": "code",
   "execution_count": null,
   "metadata": {},
   "outputs": [],
   "source": [
    "%%time\n",
    "# get all images\n",
    "\n",
    "for id in range(MIN_ID, MAX_ID):\n",
    "  murl = ARQUI_URL.replace(\"IDNUM\", f\"{id}\")\n",
    "  out_img_path = path.join(IMG_PATH, f\"{id}.jpg\")\n",
    "\n",
    "  if path.isfile(out_img_path):\n",
    "    continue\n",
    "\n",
    "  response = requests.get(murl, stream=True)\n",
    "  if not response.ok:\n",
    "    print(id, response)\n",
    "  else:\n",
    "    print(f\"got {id}\")\n",
    "    with open(out_img_path, \"wb\") as fw:\n",
    "      for block in response.iter_content(1024):\n",
    "        if not block:\n",
    "          break\n",
    "        fw.write(block)\n"
   ]
  }
 ],
 "metadata": {
  "kernelspec": {
   "display_name": "Python 3 (ipykernel)",
   "language": "python",
   "name": "python3"
  },
  "language_info": {
   "codemirror_mode": {
    "name": "ipython",
    "version": 3
   },
   "file_extension": ".py",
   "mimetype": "text/x-python",
   "name": "python",
   "nbconvert_exporter": "python",
   "pygments_lexer": "ipython3",
   "version": "3.10.9"
  }
 },
 "nbformat": 4,
 "nbformat_minor": 4
}
